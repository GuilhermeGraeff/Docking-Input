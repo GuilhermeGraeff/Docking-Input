{
 "cells": [
  {
   "cell_type": "code",
   "execution_count": 1,
   "id": "f7e536c5-1f50-4749-9739-30de698c3572",
   "metadata": {},
   "outputs": [
    {
     "name": "stdout",
     "output_type": "stream",
     "text": [
      "Defaulting to user installation because normal site-packages is not writeable\n",
      "Collecting molgrid\n",
      "  Downloading molgrid-0.5.4-py3-none-manylinux_2_17_x86_64.manylinux2014_x86_64.whl.metadata (1.4 kB)\n",
      "Requirement already satisfied: numpy>=1.16.2 in /usr/local/lib/python3.10/dist-packages (from molgrid) (1.26.4)\n",
      "Requirement already satisfied: pytest in /usr/local/lib/python3.10/dist-packages (from molgrid) (7.4.3)\n",
      "Collecting pyquaternion (from molgrid)\n",
      "  Downloading pyquaternion-0.9.9-py3-none-any.whl.metadata (1.4 kB)\n",
      "Requirement already satisfied: iniconfig in /usr/local/lib/python3.10/dist-packages (from pytest->molgrid) (2.0.0)\n",
      "Requirement already satisfied: packaging in /usr/local/lib/python3.10/dist-packages (from pytest->molgrid) (24.0)\n",
      "Requirement already satisfied: pluggy<2.0,>=0.12 in /usr/local/lib/python3.10/dist-packages (from pytest->molgrid) (1.3.0)\n",
      "Requirement already satisfied: exceptiongroup>=1.0.0rc8 in /usr/local/lib/python3.10/dist-packages (from pytest->molgrid) (1.2.0)\n",
      "Requirement already satisfied: tomli>=1.0.0 in /usr/local/lib/python3.10/dist-packages (from pytest->molgrid) (2.0.1)\n",
      "Downloading molgrid-0.5.4-py3-none-manylinux_2_17_x86_64.manylinux2014_x86_64.whl (27.4 MB)\n",
      "\u001b[2K   \u001b[90m━━━━━━━━━━━━━━━━━━━━━━━━━━━━━━━━━━━━━━━━\u001b[0m \u001b[32m27.4/27.4 MB\u001b[0m \u001b[31m3.5 MB/s\u001b[0m eta \u001b[36m0:00:00\u001b[0m00:01\u001b[0m00:01\u001b[0m\n",
      "\u001b[?25hDownloading pyquaternion-0.9.9-py3-none-any.whl (14 kB)\n",
      "Installing collected packages: pyquaternion, molgrid\n",
      "Successfully installed molgrid-0.5.4 pyquaternion-0.9.9\n",
      "\n",
      "\u001b[1m[\u001b[0m\u001b[34;49mnotice\u001b[0m\u001b[1;39;49m]\u001b[0m\u001b[39;49m A new release of pip is available: \u001b[0m\u001b[31;49m24.0\u001b[0m\u001b[39;49m -> \u001b[0m\u001b[32;49m24.1\u001b[0m\n",
      "\u001b[1m[\u001b[0m\u001b[34;49mnotice\u001b[0m\u001b[1;39;49m]\u001b[0m\u001b[39;49m To update, run: \u001b[0m\u001b[32;49mpython3 -m pip install --upgrade pip\u001b[0m\n"
     ]
    }
   ],
   "source": [
    "!pip install molgrid"
   ]
  },
  {
   "cell_type": "code",
   "execution_count": 6,
   "id": "8c6269e1-28c3-4fc3-9d5d-9bc256456502",
   "metadata": {},
   "outputs": [],
   "source": [
    "import molgrid\n",
    "import pytest\n",
    "import numpy as np\n",
    "import torch\n",
    "import torch.nn as nn\n",
    "import torch.nn.functional as F\n",
    "import torch.optim as optim\n",
    "from torch.nn import init\n",
    "import os"
   ]
  },
  {
   "cell_type": "code",
   "execution_count": 7,
   "id": "467b1f74-9c3e-46bd-927d-18160999f835",
   "metadata": {},
   "outputs": [],
   "source": [
    "\n",
    "\n",
    "def test_train_torch_cnn():\n",
    "    batch_size = 50\n",
    "    datadir = os.path.dirname(__file__)+'/data'\n",
    "    fname = datadir+\"/small.types\"\n",
    "\n",
    "    molgrid.set_random_seed(0)\n",
    "    torch.manual_seed(0)\n",
    "    np.random.seed(0)\n",
    "\n",
    "    class Net(nn.Module):\n",
    "        def __init__(self, dims):\n",
    "            super(Net, self).__init__()\n",
    "            self.pool0 = nn.MaxPool3d(2)\n",
    "            self.conv1 = nn.Conv3d(dims[0], 32, kernel_size=3, padding=1)\n",
    "            self.pool1 = nn.MaxPool3d(2)\n",
    "            self.conv2 = nn.Conv3d(32, 64, kernel_size=3, padding=1)\n",
    "            self.pool2 = nn.MaxPool3d(2)\n",
    "            self.conv3 = nn.Conv3d(64, 128, kernel_size=3, padding=1)\n",
    "\n",
    "            self.last_layer_size = dims[1]//8 * dims[2]//8 * dims[3]//8 * 128\n",
    "            self.fc1 = nn.Linear(self.last_layer_size, 2)\n",
    "\n",
    "        def forward(self, x):\n",
    "            x = self.pool0(x)\n",
    "            x = F.relu(self.conv1(x))\n",
    "            x = self.pool1(x)\n",
    "            x = F.relu(self.conv2(x))\n",
    "            x = self.pool2(x)\n",
    "            x = F.relu(self.conv3(x))\n",
    "            x = x.view(-1, self.last_layer_size)\n",
    "            x = self.fc1(x)\n",
    "            return x\n",
    "\n",
    "    def weights_init(m):\n",
    "        if isinstance(m, nn.Conv3d) or isinstance(m, nn.Linear):\n",
    "            init.xavier_uniform_(m.weight.data)\n",
    "\n",
    "    batch_size = 50\n",
    "    e = molgrid.ExampleProvider(data_root=datadir+\"/structs\",balanced=True,shuffle=True)\n",
    "    e.populate(fname)\n",
    "\n",
    "    gmaker = molgrid.GridMaker()\n",
    "    dims = gmaker.grid_dimensions(e.num_types())\n",
    "    tensor_shape = (batch_size,)+dims\n",
    "\n",
    "    model = Net(dims).to('cuda')\n",
    "    model.apply(weights_init)\n",
    "\n",
    "    optimizer = optim.SGD(model.parameters(), lr=0.01, momentum=0.9)\n",
    "\n",
    "    input_tensor = torch.zeros(tensor_shape, dtype=torch.float32, device='cuda')\n",
    "    float_labels = torch.zeros(batch_size, dtype=torch.float32)\n",
    "\n",
    "    losses = []\n",
    "    for iteration in range(100):\n",
    "        #load data\n",
    "        batch = e.next_batch(batch_size)\n",
    "        gmaker.forward(batch, input_tensor, 0, random_rotation=False) #not rotating since convergence is faster this way\n",
    "        batch.extract_label(0, float_labels)\n",
    "        labels = float_labels.long().to('cuda')\n",
    "\n",
    "        optimizer.zero_grad()\n",
    "        output = model(input_tensor)\n",
    "        loss = F.cross_entropy(output,labels)\n",
    "        loss.backward()\n",
    "        optimizer.step()\n",
    "        losses.append(float(loss))"
   ]
  },
  {
   "cell_type": "code",
   "execution_count": null,
   "id": "6e94681c-0724-4c4b-b8d7-6198b07904a0",
   "metadata": {},
   "outputs": [],
   "source": []
  }
 ],
 "metadata": {
  "kernelspec": {
   "display_name": "Python 3 (ipykernel)",
   "language": "python",
   "name": "python3"
  },
  "language_info": {
   "codemirror_mode": {
    "name": "ipython",
    "version": 3
   },
   "file_extension": ".py",
   "mimetype": "text/x-python",
   "name": "python",
   "nbconvert_exporter": "python",
   "pygments_lexer": "ipython3",
   "version": "3.10.12"
  }
 },
 "nbformat": 4,
 "nbformat_minor": 5
}
