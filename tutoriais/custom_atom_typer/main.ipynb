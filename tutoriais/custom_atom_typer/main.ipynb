{
 "cells": [
  {
   "cell_type": "code",
   "execution_count": 1,
   "id": "4770f05c-69ff-4217-9a1b-a619bf6df9a7",
   "metadata": {},
   "outputs": [],
   "source": [
    "import torch"
   ]
  },
  {
   "cell_type": "code",
   "execution_count": 2,
   "id": "f5761376-58ab-4315-aa65-9301b5b461a2",
   "metadata": {},
   "outputs": [],
   "source": [
    "import molgrid"
   ]
  },
  {
   "cell_type": "code",
   "execution_count": 3,
   "id": "f0c5157a",
   "metadata": {},
   "outputs": [],
   "source": [
    "from openbabel import pybel"
   ]
  },
  {
   "cell_type": "code",
   "execution_count": 10,
   "id": "4e032511",
   "metadata": {},
   "outputs": [
    {
     "data": {
      "image/svg+xml": [
       "<svg xmlns=\"http://www.w3.org/2000/svg\" width=\"100\" height=\"100\" x=\"0\" y=\"0\" viewBox=\"0 0 154.641 154.641\" font-family=\"sans-serif\" stroke=\"rgb(0,0,0)\" stroke-width=\"2\" stroke-linecap=\"round\">\n",
       "<line x1=\"74.6\" y1=\"74.6\" x2=\"51.3\" y2=\"61.1\" opacity=\"1.0\" stroke=\"rgb(0,0,0)\" stroke-width=\"2.0\" />\n",
       "<line x1=\"74.6\" y1=\"74.6\" x2=\"101.6\" y2=\"74.6\" opacity=\"1.0\" stroke=\"rgb(0,0,0)\" stroke-width=\"2.0\" />\n",
       "<line x1=\"74.6\" y1=\"74.6\" x2=\"88.1\" y2=\"51.3\" opacity=\"1.0\" stroke=\"rgb(0,0,0)\" stroke-width=\"2.0\" />\n",
       "<line x1=\"74.6\" y1=\"74.6\" x2=\"74.6\" y2=\"101.6\" opacity=\"1.0\" stroke=\"rgb(0,0,0)\" stroke-width=\"2.0\" />\n",
       "<text x=\"34.000000\" y=\"62.641016\" fill=\"rgb(191,191,191)\" stroke-width=\"0\" font-weight=\"bold\" font-size=\"16\">H</text>\n",
       "<text x=\"108.641016\" y=\"82.641016\" fill=\"rgb(191,191,191)\" stroke-width=\"0\" font-weight=\"bold\" font-size=\"16\">H</text>\n",
       "<text x=\"88.641016\" y=\"48.000000\" fill=\"rgb(191,191,191)\" stroke-width=\"0\" font-weight=\"bold\" font-size=\"16\">H</text>\n",
       "<text x=\"68.641016\" y=\"122.641016\" fill=\"rgb(191,191,191)\" stroke-width=\"0\" font-weight=\"bold\" font-size=\"16\">H</text>\n",
       "</svg>\n"
      ],
      "text/plain": [
       "<openbabel.pybel.Molecule at 0x7f2c0d5fa0d0>"
      ]
     },
     "execution_count": 10,
     "metadata": {},
     "output_type": "execute_result"
    }
   ],
   "source": [
    "# create simple molecule\n",
    "m = pybel.readstring('smi','C')\n",
    "m.addh()\n",
    "m"
   ]
  },
  {
   "cell_type": "code",
   "execution_count": 5,
   "id": "b500879c",
   "metadata": {},
   "outputs": [],
   "source": [
    "# atom typing based on atomic number and valence, with a constant radius of 1.5\n",
    "def mytyper(atom):\n",
    "    if hasattr(atom, 'GetValence'):\n",
    "        return ([atom.GetAtomicNum(),atom.GetValence()], 1.5)\n",
    "    else:\n",
    "        return ([atom.GetAtomicNum(),atom.GetExplicitDegree()], 1.5)\n"
   ]
  },
  {
   "cell_type": "code",
   "execution_count": 9,
   "id": "37bee2fd",
   "metadata": {},
   "outputs": [
    {
     "data": {
      "text/plain": [
       "<molgrid.molgrid.PythonCallbackVectorTyper at 0x7f2c0c8728e0>"
      ]
     },
     "execution_count": 9,
     "metadata": {},
     "output_type": "execute_result"
    }
   ],
   "source": [
    "# create the typer; the explicit names may be omitted, in which case numerical names\n",
    "# will be automatically created\n",
    "t = molgrid.PythonCallbackVectorTyper(mytyper, 2, [\"anum\",\"valence\"])\n",
    "# get types for our simple molecule using our typer\n",
    "t"
   ]
  },
  {
   "cell_type": "code",
   "execution_count": 7,
   "id": "85bbb694",
   "metadata": {},
   "outputs": [],
   "source": [
    "types = [t.get_atom_type_vector(a.OBAtom) for a in m.atoms]"
   ]
  },
  {
   "cell_type": "code",
   "execution_count": 8,
   "id": "9f2ab270",
   "metadata": {},
   "outputs": [
    {
     "data": {
      "text/plain": [
       "[([6.0, 4.0], 1.5),\n",
       " ([1.0, 1.0], 1.5),\n",
       " ([1.0, 1.0], 1.5),\n",
       " ([1.0, 1.0], 1.5),\n",
       " ([1.0, 1.0], 1.5)]"
      ]
     },
     "execution_count": 8,
     "metadata": {},
     "output_type": "execute_result"
    }
   ],
   "source": [
    "types"
   ]
  },
  {
   "cell_type": "code",
   "execution_count": null,
   "id": "5f8b9e71",
   "metadata": {},
   "outputs": [],
   "source": []
  }
 ],
 "metadata": {
  "kernelspec": {
   "display_name": "Python 3 (ipykernel)",
   "language": "python",
   "name": "python3"
  },
  "language_info": {
   "codemirror_mode": {
    "name": "ipython",
    "version": 3
   },
   "file_extension": ".py",
   "mimetype": "text/x-python",
   "name": "python",
   "nbconvert_exporter": "python",
   "pygments_lexer": "ipython3",
   "version": "3.11.5"
  }
 },
 "nbformat": 4,
 "nbformat_minor": 5
}
