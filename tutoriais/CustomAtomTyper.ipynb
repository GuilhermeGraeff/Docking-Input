{
 "cells": [
  {
   "cell_type": "code",
   "execution_count": 5,
   "id": "4770f05c-69ff-4217-9a1b-a619bf6df9a7",
   "metadata": {},
   "outputs": [],
   "source": [
    "import torch"
   ]
  },
  {
   "cell_type": "code",
   "execution_count": 6,
   "id": "f5761376-58ab-4315-aa65-9301b5b461a2",
   "metadata": {},
   "outputs": [],
   "source": [
    "import molgrid"
   ]
  },
  {
   "cell_type": "code",
   "execution_count": 7,
   "id": "f0c5157a",
   "metadata": {},
   "outputs": [
    {
     "ename": "ModuleNotFoundError",
     "evalue": "No module named 'openbabel'",
     "output_type": "error",
     "traceback": [
      "\u001b[0;31m---------------------------------------------------------------------------\u001b[0m",
      "\u001b[0;31mModuleNotFoundError\u001b[0m                       Traceback (most recent call last)",
      "Cell \u001b[0;32mIn[7], line 1\u001b[0m\n\u001b[0;32m----> 1\u001b[0m \u001b[38;5;28;01mfrom\u001b[39;00m \u001b[38;5;21;01mopenbabel\u001b[39;00m \u001b[38;5;28;01mimport\u001b[39;00m pybel\n",
      "\u001b[0;31mModuleNotFoundError\u001b[0m: No module named 'openbabel'"
     ]
    }
   ],
   "source": [
    "from openbabel import pybel"
   ]
  },
  {
   "cell_type": "code",
   "execution_count": 8,
   "id": "4e032511",
   "metadata": {},
   "outputs": [
    {
     "ename": "NameError",
     "evalue": "name 'pybel' is not defined",
     "output_type": "error",
     "traceback": [
      "\u001b[0;31m---------------------------------------------------------------------------\u001b[0m",
      "\u001b[0;31mNameError\u001b[0m                                 Traceback (most recent call last)",
      "Cell \u001b[0;32mIn[8], line 2\u001b[0m\n\u001b[1;32m      1\u001b[0m \u001b[38;5;66;03m# create simple molecule\u001b[39;00m\n\u001b[0;32m----> 2\u001b[0m m \u001b[38;5;241m=\u001b[39m \u001b[43mpybel\u001b[49m\u001b[38;5;241m.\u001b[39mreadstring(\u001b[38;5;124m'\u001b[39m\u001b[38;5;124msmi\u001b[39m\u001b[38;5;124m'\u001b[39m,\u001b[38;5;124m'\u001b[39m\u001b[38;5;124mC\u001b[39m\u001b[38;5;124m'\u001b[39m)\n\u001b[1;32m      3\u001b[0m m\u001b[38;5;241m.\u001b[39maddh()\n\u001b[1;32m      4\u001b[0m m\n",
      "\u001b[0;31mNameError\u001b[0m: name 'pybel' is not defined"
     ]
    }
   ],
   "source": [
    "# create simple molecule\n",
    "m = pybel.readstring('smi','C')\n",
    "m.addh()\n",
    "m"
   ]
  },
  {
   "cell_type": "code",
   "execution_count": 9,
   "id": "b500879c",
   "metadata": {},
   "outputs": [],
   "source": [
    "# atom typing based on atomic number and valence, with a constant radius of 1.5\n",
    "def mytyper(atom):\n",
    "    if hasattr(atom, 'GetValence'):\n",
    "        return ([atom.GetAtomicNum(),atom.GetValence()], 1.5)\n",
    "    else:\n",
    "        return ([atom.GetAtomicNum(),atom.GetExplicitDegree()], 1.5)\n"
   ]
  },
  {
   "cell_type": "code",
   "execution_count": null,
   "id": "37bee2fd",
   "metadata": {},
   "outputs": [],
   "source": [
    "# create the typer; the explicit names may be omitted, in which case numerical names\n",
    "# will be automatically created\n",
    "t = molgrid.PythonCallbackVectorTyper(mytyper, 2, [\"anum\",\"valence\"])\n",
    "# get types for our simple molecule using our typer\n",
    "t"
   ]
  },
  {
   "cell_type": "code",
   "execution_count": null,
   "id": "85bbb694",
   "metadata": {},
   "outputs": [],
   "source": [
    "types = [t.get_atom_type_vector(a.OBAtom) for a in m.atoms]"
   ]
  },
  {
   "cell_type": "code",
   "execution_count": 4,
   "id": "9f2ab270",
   "metadata": {},
   "outputs": [
    {
     "ename": "NameError",
     "evalue": "name 'types' is not defined",
     "output_type": "error",
     "traceback": [
      "\u001b[0;31m---------------------------------------------------------------------------\u001b[0m",
      "\u001b[0;31mNameError\u001b[0m                                 Traceback (most recent call last)",
      "Cell \u001b[0;32mIn[4], line 1\u001b[0m\n\u001b[0;32m----> 1\u001b[0m \u001b[43mtypes\u001b[49m\n",
      "\u001b[0;31mNameError\u001b[0m: name 'types' is not defined"
     ]
    }
   ],
   "source": [
    "types"
   ]
  },
  {
   "cell_type": "code",
   "execution_count": null,
   "id": "5f8b9e71",
   "metadata": {},
   "outputs": [],
   "source": []
  }
 ],
 "metadata": {
  "kernelspec": {
   "display_name": "Python 3 (ipykernel)",
   "language": "python",
   "name": "python3"
  },
  "language_info": {
   "codemirror_mode": {
    "name": "ipython",
    "version": 3
   },
   "file_extension": ".py",
   "mimetype": "text/x-python",
   "name": "python",
   "nbconvert_exporter": "python",
   "pygments_lexer": "ipython3",
   "version": "3.10.12"
  }
 },
 "nbformat": 4,
 "nbformat_minor": 5
}
