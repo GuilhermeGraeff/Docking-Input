{
 "cells": [
  {
   "cell_type": "code",
   "execution_count": 3,
   "id": "a4479013-e2ea-42e4-b236-c2163fc82e61",
   "metadata": {},
   "outputs": [],
   "source": [
    "import molgrid\n",
    "import numpy as np\n",
    "import torch\n",
    "import torch.nn as nn\n",
    "import torch.nn.functional as F\n",
    "import torch.optim as optim\n",
    "from torch.nn import init\n",
    "import os\n",
    "import matplotlib.pyplot as plt"
   ]
  },
  {
   "cell_type": "code",
   "execution_count": 4,
   "id": "719e3b26",
   "metadata": {},
   "outputs": [],
   "source": [
    "# set some constants\n",
    "batch_size = 50\n",
    "datadir = os.getcwd() +'/../_data'\n",
    "fname = datadir+\"/small.types\"\n",
    "\n",
    "\n",
    "\n",
    "molgrid.set_random_seed(0)\n",
    "torch.manual_seed(0)\n",
    "np.random.seed(0)"
   ]
  },
  {
   "cell_type": "code",
   "execution_count": 5,
   "id": "bd27621f",
   "metadata": {},
   "outputs": [],
   "source": [
    "# define network architecture\n",
    "class Net(nn.Module):\n",
    "    def __init__(self, dims):\n",
    "        super(Net, self).__init__()\n",
    "        self.pool0 = nn.MaxPool3d(2)\n",
    "        self.conv1 = nn.Conv3d(dims[0], 32, kernel_size=3, padding=1)\n",
    "        self.pool1 = nn.MaxPool3d(2)\n",
    "        self.conv2 = nn.Conv3d(32, 64, kernel_size=3, padding=1)\n",
    "        self.pool2 = nn.MaxPool3d(2)\n",
    "        self.conv3 = nn.Conv3d(64, 128, kernel_size=3, padding=1)\n",
    "\n",
    "        self.last_layer_size = dims[1]//8 * dims[2]//8 * dims[3]//8 * 128\n",
    "        self.fc1 = nn.Linear(self.last_layer_size, 2)\n",
    "\n",
    "    def forward(self, x):\n",
    "        x = self.pool0(x)\n",
    "        x = F.relu(self.conv1(x))\n",
    "        x = self.pool1(x)\n",
    "        x = F.relu(self.conv2(x))\n",
    "        x = self.pool2(x)\n",
    "        x = F.relu(self.conv3(x))\n",
    "        x = x.view(-1, self.last_layer_size)\n",
    "        x = self.fc1(x)\n",
    "        return x"
   ]
  },
  {
   "cell_type": "code",
   "execution_count": 6,
   "id": "0369ba4d",
   "metadata": {},
   "outputs": [],
   "source": [
    "# define weight initialization\n",
    "def weights_init(m):\n",
    "    if isinstance(m, nn.Conv3d) or isinstance(m, nn.Linear):\n",
    "        init.xavier_uniform_(m.weight.data)"
   ]
  },
  {
   "cell_type": "code",
   "execution_count": 7,
   "id": "1b683178",
   "metadata": {},
   "outputs": [
    {
     "ename": "ValueError",
     "evalue": "Could not open file /home/ggraeff/Documents/Docking-Input/tutoriais/basic_cnn_torch/data/small.types",
     "output_type": "error",
     "traceback": [
      "\u001b[0;31m---------------------------------------------------------------------------\u001b[0m",
      "\u001b[0;31mValueError\u001b[0m                                Traceback (most recent call last)",
      "Cell \u001b[0;32mIn[7], line 3\u001b[0m\n\u001b[1;32m      1\u001b[0m \u001b[38;5;66;03m# use the libmolgrid ExampleProvider to obtain shuffled, balanced, and stratified batches from a file\u001b[39;00m\n\u001b[1;32m      2\u001b[0m e \u001b[38;5;241m=\u001b[39m molgrid\u001b[38;5;241m.\u001b[39mExampleProvider(data_root\u001b[38;5;241m=\u001b[39mdatadir\u001b[38;5;241m+\u001b[39m\u001b[38;5;124m\"\u001b[39m\u001b[38;5;124m/structs\u001b[39m\u001b[38;5;124m\"\u001b[39m,balanced\u001b[38;5;241m=\u001b[39m\u001b[38;5;28;01mTrue\u001b[39;00m,shuffle\u001b[38;5;241m=\u001b[39m\u001b[38;5;28;01mTrue\u001b[39;00m)\n\u001b[0;32m----> 3\u001b[0m e\u001b[38;5;241m.\u001b[39mpopulate(fname)\n",
      "\u001b[0;31mValueError\u001b[0m: Could not open file /home/ggraeff/Documents/Docking-Input/tutoriais/basic_cnn_torch/data/small.types"
     ]
    }
   ],
   "source": [
    "# use the libmolgrid ExampleProvider to obtain shuffled, balanced, and stratified batches from a file\n",
    "e = molgrid.ExampleProvider(data_root=datadir+\"/structs\",balanced=True,shuffle=True)\n",
    "e.populate(fname)"
   ]
  },
  {
   "cell_type": "code",
   "execution_count": null,
   "id": "8f64c842",
   "metadata": {},
   "outputs": [],
   "source": [
    "# initialize libmolgrid GridMaker\n",
    "gmaker = molgrid.GridMaker()\n",
    "dims = gmaker.grid_dimensions(e.num_types())\n",
    "tensor_shape = (batch_size,)+dims"
   ]
  },
  {
   "cell_type": "code",
   "execution_count": null,
   "id": "10b0c812",
   "metadata": {},
   "outputs": [],
   "source": [
    "# initialize Net on GPU\n",
    "model = Net(dims).to('cuda')\n",
    "model.apply(weights_init)"
   ]
  },
  {
   "cell_type": "code",
   "execution_count": null,
   "id": "4ca7b5ba",
   "metadata": {},
   "outputs": [],
   "source": [
    "Net(\n",
    "  (pool0): MaxPool3d(kernel_size=2, stride=2, padding=0, dilation=1, ceil_mode=False)\n",
    "  (conv1): Conv3d(28, 32, kernel_size=(3, 3, 3), stride=(1, 1, 1), padding=(1, 1, 1))\n",
    "  (pool1): MaxPool3d(kernel_size=2, stride=2, padding=0, dilation=1, ceil_mode=False)\n",
    "  (conv2): Conv3d(32, 64, kernel_size=(3, 3, 3), stride=(1, 1, 1), padding=(1, 1, 1))\n",
    "  (pool2): MaxPool3d(kernel_size=2, stride=2, padding=0, dilation=1, ceil_mode=False)\n",
    "  (conv3): Conv3d(64, 128, kernel_size=(3, 3, 3), stride=(1, 1, 1), padding=(1, 1, 1))\n",
    "  (fc1): Linear(in_features=27648, out_features=2, bias=True)\n",
    ")"
   ]
  },
  {
   "cell_type": "code",
   "execution_count": null,
   "id": "0941348c",
   "metadata": {},
   "outputs": [],
   "source": [
    "# construct optimizer\n",
    "optimizer = optim.SGD(model.parameters(), lr=0.01, momentum=0.9)"
   ]
  },
  {
   "cell_type": "code",
   "execution_count": 8,
   "id": "c34bdbad",
   "metadata": {},
   "outputs": [
    {
     "ename": "NameError",
     "evalue": "name 'tensor_shape' is not defined",
     "output_type": "error",
     "traceback": [
      "\u001b[0;31m---------------------------------------------------------------------------\u001b[0m",
      "\u001b[0;31mNameError\u001b[0m                                 Traceback (most recent call last)",
      "Cell \u001b[0;32mIn[8], line 2\u001b[0m\n\u001b[1;32m      1\u001b[0m \u001b[38;5;66;03m# construct input tensors\u001b[39;00m\n\u001b[0;32m----> 2\u001b[0m input_tensor \u001b[38;5;241m=\u001b[39m torch\u001b[38;5;241m.\u001b[39mzeros(tensor_shape, dtype\u001b[38;5;241m=\u001b[39mtorch\u001b[38;5;241m.\u001b[39mfloat32, device\u001b[38;5;241m=\u001b[39m\u001b[38;5;124m'\u001b[39m\u001b[38;5;124mcuda\u001b[39m\u001b[38;5;124m'\u001b[39m)\n\u001b[1;32m      3\u001b[0m float_labels \u001b[38;5;241m=\u001b[39m torch\u001b[38;5;241m.\u001b[39mzeros(batch_size, dtype\u001b[38;5;241m=\u001b[39mtorch\u001b[38;5;241m.\u001b[39mfloat32)\n",
      "\u001b[0;31mNameError\u001b[0m: name 'tensor_shape' is not defined"
     ]
    }
   ],
   "source": [
    "# construct input tensors\n",
    "input_tensor = torch.zeros(tensor_shape, dtype=torch.float32, device='cuda')\n",
    "float_labels = torch.zeros(batch_size, dtype=torch.float32)"
   ]
  },
  {
   "cell_type": "code",
   "execution_count": null,
   "id": "1c30ef7e",
   "metadata": {},
   "outputs": [],
   "source": [
    "# train for 500 iterations\n",
    "losses = []\n",
    "for iteration in range(500):\n",
    "    # load data\n",
    "    batch = e.next_batch(batch_size)\n",
    "    # libmolgrid can interoperate directly with Torch tensors, using views over the same memory.\n",
    "    # internally, the libmolgrid GridMaker can use libmolgrid Transforms to apply random rotations and translations for data augmentation\n",
    "    # the user may also use libmolgrid Transforms directly in python\n",
    "    gmaker.forward(batch, input_tensor, 0, random_rotation=False)\n",
    "    batch.extract_label(0, float_labels)\n",
    "    labels = float_labels.long().to('cuda')\n",
    "\n",
    "    optimizer.zero_grad()\n",
    "    output = model(input_tensor)\n",
    "    loss = F.cross_entropy(output,labels)\n",
    "    loss.backward()\n",
    "    optimizer.step()\n",
    "    losses.append(float(loss))"
   ]
  },
  {
   "cell_type": "code",
   "execution_count": null,
   "id": "22f0f0e4",
   "metadata": {},
   "outputs": [],
   "source": [
    "%matplotlib inline"
   ]
  },
  {
   "cell_type": "code",
   "execution_count": null,
   "id": "e0abc0a4",
   "metadata": {},
   "outputs": [],
   "source": [
    "plt.plot(losses)"
   ]
  },
  {
   "cell_type": "code",
   "execution_count": null,
   "id": "bc2a40a8",
   "metadata": {},
   "outputs": [],
   "source": []
  }
 ],
 "metadata": {
  "kernelspec": {
   "display_name": "Python 3 (ipykernel)",
   "language": "python",
   "name": "python3"
  },
  "language_info": {
   "codemirror_mode": {
    "name": "ipython",
    "version": 3
   },
   "file_extension": ".py",
   "mimetype": "text/x-python",
   "name": "python",
   "nbconvert_exporter": "python",
   "pygments_lexer": "ipython3",
   "version": "3.11.5"
  }
 },
 "nbformat": 4,
 "nbformat_minor": 5
}
