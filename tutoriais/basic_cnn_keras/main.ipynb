{
 "cells": [
  {
   "cell_type": "code",
   "execution_count": 9,
   "id": "e4e317e1-b5d6-4c6d-bc7d-d25050f93bbd",
   "metadata": {
    "scrolled": true
   },
   "outputs": [
    {
     "name": "stdout",
     "output_type": "stream",
     "text": [
      "Defaulting to user installation because normal site-packages is not writeable\n",
      "Requirement already satisfied: molgrid in /home/ggraeff/.local/lib/python3.10/site-packages (0.5.4)\n",
      "Requirement already satisfied: numpy>=1.16.2 in /usr/local/lib/python3.10/dist-packages (from molgrid) (1.24.4)\n",
      "Requirement already satisfied: pytest in /usr/local/lib/python3.10/dist-packages (from molgrid) (7.4.3)\n",
      "Requirement already satisfied: pyquaternion in /home/ggraeff/.local/lib/python3.10/site-packages (from molgrid) (0.9.9)\n",
      "Requirement already satisfied: iniconfig in /usr/local/lib/python3.10/dist-packages (from pytest->molgrid) (2.0.0)\n",
      "Requirement already satisfied: packaging in /usr/local/lib/python3.10/dist-packages (from pytest->molgrid) (24.0)\n",
      "Requirement already satisfied: pluggy<2.0,>=0.12 in /usr/local/lib/python3.10/dist-packages (from pytest->molgrid) (1.3.0)\n",
      "Requirement already satisfied: exceptiongroup>=1.0.0rc8 in /usr/local/lib/python3.10/dist-packages (from pytest->molgrid) (1.2.0)\n",
      "Requirement already satisfied: tomli>=1.0.0 in /usr/local/lib/python3.10/dist-packages (from pytest->molgrid) (2.0.1)\n",
      "Defaulting to user installation because normal site-packages is not writeable\n",
      "Collecting openbabel\n",
      "  Using cached openbabel-3.1.1.1.tar.gz (82 kB)\n",
      "  Preparing metadata (setup.py) ... \u001b[?25ldone\n",
      "\u001b[?25hBuilding wheels for collected packages: openbabel\n",
      "  Building wheel for openbabel (setup.py) ... \u001b[?25lerror\n",
      "  \u001b[1;31merror\u001b[0m: \u001b[1msubprocess-exited-with-error\u001b[0m\n",
      "  \n",
      "  \u001b[31m×\u001b[0m \u001b[32mpython setup.py bdist_wheel\u001b[0m did not run successfully.\n",
      "  \u001b[31m│\u001b[0m exit code: \u001b[1;36m1\u001b[0m\n",
      "  \u001b[31m╰─>\u001b[0m \u001b[31m[18 lines of output]\u001b[0m\n",
      "  \u001b[31m   \u001b[0m running bdist_wheel\n",
      "  \u001b[31m   \u001b[0m running build\n",
      "  \u001b[31m   \u001b[0m running build_ext\n",
      "  \u001b[31m   \u001b[0m Warning: invalid version number '3.1.1.1'.\n",
      "  \u001b[31m   \u001b[0m Guessing Open Babel location:\n",
      "  \u001b[31m   \u001b[0m - include_dirs: ['/usr/include/python3.10', '/usr/local/include/openbabel3']\n",
      "  \u001b[31m   \u001b[0m - library_dirs: ['/usr/lib/x86_64-linux-gnu', '/usr/local/lib']\n",
      "  \u001b[31m   \u001b[0m INFO: Disabling color, you really want to install colorlog.\n",
      "  \u001b[31m   \u001b[0m Disabling color, you really want to install colorlog.\n",
      "  \u001b[31m   \u001b[0m /usr/lib/python3/dist-packages/pythran/tables.py:4520: FutureWarning: In the future `np.bool` will be defined as the corresponding NumPy scalar.\n",
      "  \u001b[31m   \u001b[0m   if not hasattr(numpy, method):\n",
      "  \u001b[31m   \u001b[0m /usr/lib/python3/dist-packages/pythran/tables.py:4553: FutureWarning: In the future `np.bytes` will be defined as the corresponding NumPy scalar.\n",
      "  \u001b[31m   \u001b[0m   obj = getattr(themodule, elem)\n",
      "  \u001b[31m   \u001b[0m \n",
      "  \u001b[31m   \u001b[0m Error: SWIG failed. Is Open Babel installed?\n",
      "  \u001b[31m   \u001b[0m You may need to manually specify the location of Open Babel include and library directories. For example:\n",
      "  \u001b[31m   \u001b[0m   python setup.py build_ext -I/usr/local/include/openbabel3 -L/usr/local/lib\n",
      "  \u001b[31m   \u001b[0m   python setup.py install\n",
      "  \u001b[31m   \u001b[0m \u001b[31m[end of output]\u001b[0m\n",
      "  \n",
      "  \u001b[1;35mnote\u001b[0m: This error originates from a subprocess, and is likely not a problem with pip.\n",
      "\u001b[31m  ERROR: Failed building wheel for openbabel\u001b[0m\u001b[31m\n",
      "\u001b[0m\u001b[?25h  Running setup.py clean for openbabel\n",
      "Failed to build openbabel\n",
      "\u001b[31mERROR: ERROR: Failed to build installable wheels for some pyproject.toml based projects (openbabel)\u001b[0m\u001b[31m\n",
      "\u001b[0mDefaulting to user installation because normal site-packages is not writeable\n",
      "Requirement already satisfied: pybel in /home/ggraeff/.local/lib/python3.10/site-packages (0.15.5)\n",
      "Requirement already satisfied: networkx>=2.4 in /usr/local/lib/python3.10/dist-packages (from pybel) (3.2.1)\n",
      "Requirement already satisfied: sqlalchemy in /usr/local/lib/python3.10/dist-packages (from pybel) (2.0.23)\n",
      "Requirement already satisfied: click in /usr/local/lib/python3.10/dist-packages (from pybel) (8.1.7)\n",
      "Requirement already satisfied: click-plugins in /usr/local/lib/python3.10/dist-packages (from pybel) (1.1.1)\n",
      "Requirement already satisfied: bel-resources>=0.0.3 in /home/ggraeff/.local/lib/python3.10/site-packages (from pybel) (0.0.3)\n",
      "Requirement already satisfied: more-itertools in /usr/lib/python3/dist-packages (from pybel) (8.10.0)\n",
      "Requirement already satisfied: requests in /usr/local/lib/python3.10/dist-packages (from pybel) (2.31.0)\n",
      "Requirement already satisfied: requests-file in /home/ggraeff/.local/lib/python3.10/site-packages (from pybel) (2.1.0)\n",
      "Requirement already satisfied: pyparsing in /usr/local/lib/python3.10/dist-packages (from pybel) (3.1.2)\n",
      "Requirement already satisfied: tqdm in /usr/local/lib/python3.10/dist-packages (from pybel) (4.66.1)\n",
      "Requirement already satisfied: humanize in /usr/local/lib/python3.10/dist-packages (from pybel) (4.9.0)\n",
      "Requirement already satisfied: tabulate in /home/ggraeff/.local/lib/python3.10/site-packages (from pybel) (0.9.0)\n",
      "Requirement already satisfied: pandas in /usr/local/lib/python3.10/dist-packages (from pybel) (1.5.3)\n",
      "Requirement already satisfied: jsonschema in /usr/local/lib/python3.10/dist-packages (from pybel) (4.20.0)\n",
      "Requirement already satisfied: bioregistry in /home/ggraeff/.local/lib/python3.10/site-packages (from pybel) (0.11.10)\n",
      "Requirement already satisfied: ratelimit in /home/ggraeff/.local/lib/python3.10/site-packages (from pybel) (2.2.1)\n",
      "Requirement already satisfied: pystow>=0.1.2 in /home/ggraeff/.local/lib/python3.10/site-packages (from pybel) (0.5.4)\n",
      "Requirement already satisfied: psycopg2-binary in /home/ggraeff/.local/lib/python3.10/site-packages (from pybel) (2.9.9)\n",
      "Requirement already satisfied: multisplitby in /home/ggraeff/.local/lib/python3.10/site-packages (from bel-resources>=0.0.3->pybel) (0.0.1)\n",
      "Requirement already satisfied: more-click>=0.1.2 in /home/ggraeff/.local/lib/python3.10/site-packages (from bioregistry->pybel) (0.1.2)\n",
      "Requirement already satisfied: pydantic in /usr/local/lib/python3.10/dist-packages (from bioregistry->pybel) (2.5.3)\n",
      "Requirement already satisfied: curies>=0.7.0 in /home/ggraeff/.local/lib/python3.10/site-packages (from bioregistry->pybel) (0.7.10)\n",
      "Requirement already satisfied: attrs>=22.2.0 in /usr/local/lib/python3.10/dist-packages (from jsonschema->pybel) (23.1.0)\n",
      "Requirement already satisfied: jsonschema-specifications>=2023.03.6 in /usr/local/lib/python3.10/dist-packages (from jsonschema->pybel) (2023.11.2)\n",
      "Requirement already satisfied: referencing>=0.28.4 in /usr/local/lib/python3.10/dist-packages (from jsonschema->pybel) (0.32.0)\n",
      "Requirement already satisfied: rpds-py>=0.7.1 in /usr/local/lib/python3.10/dist-packages (from jsonschema->pybel) (0.15.2)\n",
      "Requirement already satisfied: python-dateutil>=2.8.1 in /usr/local/lib/python3.10/dist-packages (from pandas->pybel) (2.8.2)\n",
      "Requirement already satisfied: pytz>=2020.1 in /usr/local/lib/python3.10/dist-packages (from pandas->pybel) (2024.1)\n",
      "Requirement already satisfied: numpy>=1.21.0 in /usr/local/lib/python3.10/dist-packages (from pandas->pybel) (1.24.4)\n",
      "Requirement already satisfied: charset-normalizer<4,>=2 in /usr/local/lib/python3.10/dist-packages (from requests->pybel) (3.3.2)\n",
      "Requirement already satisfied: idna<4,>=2.5 in /usr/local/lib/python3.10/dist-packages (from requests->pybel) (3.7)\n",
      "Requirement already satisfied: urllib3<3,>=1.21.1 in /usr/local/lib/python3.10/dist-packages (from requests->pybel) (2.2.1)\n",
      "Requirement already satisfied: certifi>=2017.4.17 in /usr/local/lib/python3.10/dist-packages (from requests->pybel) (2024.2.2)\n",
      "Requirement already satisfied: typing-extensions>=4.2.0 in /usr/local/lib/python3.10/dist-packages (from sqlalchemy->pybel) (4.11.0)\n",
      "Requirement already satisfied: greenlet!=0.4.17 in /usr/local/lib/python3.10/dist-packages (from sqlalchemy->pybel) (3.0.3)\n",
      "Requirement already satisfied: pytrie in /home/ggraeff/.local/lib/python3.10/site-packages (from curies>=0.7.0->bioregistry->pybel) (0.4.0)\n",
      "Requirement already satisfied: six>=1.5 in /usr/local/lib/python3.10/dist-packages (from python-dateutil>=2.8.1->pandas->pybel) (1.16.0)\n",
      "Requirement already satisfied: annotated-types>=0.4.0 in /usr/local/lib/python3.10/dist-packages (from pydantic->bioregistry->pybel) (0.6.0)\n",
      "Requirement already satisfied: pydantic-core==2.14.6 in /usr/local/lib/python3.10/dist-packages (from pydantic->bioregistry->pybel) (2.14.6)\n",
      "Requirement already satisfied: sortedcontainers in /usr/local/lib/python3.10/dist-packages (from pytrie->curies>=0.7.0->bioregistry->pybel) (2.4.0)\n"
     ]
    }
   ],
   "source": [
    "!pip install molgrid\n",
    "!pip install openbabel\n",
    "!pip install pybel"
   ]
  },
  {
   "cell_type": "code",
   "execution_count": 6,
   "id": "339c46e2-3859-4173-8e4f-ca81e944369b",
   "metadata": {},
   "outputs": [],
   "source": [
    "import torch"
   ]
  },
  {
   "cell_type": "code",
   "execution_count": 7,
   "id": "0b60a666-b7c0-4ec5-8b7e-48d4f129426e",
   "metadata": {},
   "outputs": [],
   "source": [
    "import molgrid"
   ]
  },
  {
   "cell_type": "code",
   "execution_count": 8,
   "id": "368ce464-17a1-4cee-95b7-065154a070c4",
   "metadata": {},
   "outputs": [
    {
     "ename": "ModuleNotFoundError",
     "evalue": "No module named 'openbabel'",
     "output_type": "error",
     "traceback": [
      "\u001b[0;31m---------------------------------------------------------------------------\u001b[0m",
      "\u001b[0;31mModuleNotFoundError\u001b[0m                       Traceback (most recent call last)",
      "Cell \u001b[0;32mIn[8], line 1\u001b[0m\n\u001b[0;32m----> 1\u001b[0m \u001b[38;5;28;01mfrom\u001b[39;00m \u001b[38;5;21;01mopenbabel\u001b[39;00m \u001b[38;5;28;01mimport\u001b[39;00m pybel\n",
      "\u001b[0;31mModuleNotFoundError\u001b[0m: No module named 'openbabel'"
     ]
    }
   ],
   "source": [
    "from openbabel import pybel"
   ]
  },
  {
   "cell_type": "code",
   "execution_count": null,
   "id": "47552d12-5973-4737-9093-be275c350390",
   "metadata": {},
   "outputs": [],
   "source": []
  }
 ],
 "metadata": {
  "kernelspec": {
   "display_name": "Python 3 (ipykernel)",
   "language": "python",
   "name": "python3"
  },
  "language_info": {
   "codemirror_mode": {
    "name": "ipython",
    "version": 3
   },
   "file_extension": ".py",
   "mimetype": "text/x-python",
   "name": "python",
   "nbconvert_exporter": "python",
   "pygments_lexer": "ipython3",
   "version": "3.10.12"
  }
 },
 "nbformat": 4,
 "nbformat_minor": 5
}
