{
 "cells": [
  {
   "cell_type": "code",
   "execution_count": 1,
   "id": "1add2fb7",
   "metadata": {},
   "outputs": [
    {
     "name": "stderr",
     "output_type": "stream",
     "text": [
      "2024-07-19 15:34:31.902903: I tensorflow/tsl/cuda/cudart_stub.cc:28] Could not find cuda drivers on your machine, GPU will not be used.\n",
      "2024-07-19 15:34:33.795779: I tensorflow/tsl/cuda/cudart_stub.cc:28] Could not find cuda drivers on your machine, GPU will not be used.\n",
      "2024-07-19 15:34:33.800322: I tensorflow/core/platform/cpu_feature_guard.cc:182] This TensorFlow binary is optimized to use available CPU instructions in performance-critical operations.\n",
      "To enable the following instructions: AVX2 FMA, in other operations, rebuild TensorFlow with the appropriate compiler flags.\n",
      "2024-07-19 15:34:39.027359: W tensorflow/compiler/tf2tensorrt/utils/py_utils.cc:38] TF-TRT Warning: Could not find TensorRT\n"
     ]
    }
   ],
   "source": [
    "import tensorflow as tf\n",
    "# physical_devices = tf.config.experimental.list_physical_devices('GPU')\n",
    "# if len(physical_devices) > 0:\n",
    "#     tf.config.experimental.set_memory_growth(physical_devices[0], True)"
   ]
  },
  {
   "cell_type": "code",
   "execution_count": 2,
   "id": "e4e317e1-b5d6-4c6d-bc7d-d25050f93bbd",
   "metadata": {
    "scrolled": true
   },
   "outputs": [],
   "source": [
    "import molgrid\n",
    "import numpy as np\n",
    "import tensorflow.keras as keras\n",
    "import keras.layers\n",
    "import os\n",
    "import matplotlib.pyplot as plt"
   ]
  },
  {
   "cell_type": "code",
   "execution_count": 3,
   "id": "339c46e2-3859-4173-8e4f-ca81e944369b",
   "metadata": {},
   "outputs": [],
   "source": [
    "molgrid.set_random_seed(0)\n",
    "np.random.seed(0)\n",
    "batch_size = 50\n",
    "datadir = os.getcwd() +'/../_data'\n",
    "fname = datadir+\"/small.types\""
   ]
  },
  {
   "cell_type": "code",
   "execution_count": 4,
   "id": "0b60a666-b7c0-4ec5-8b7e-48d4f129426e",
   "metadata": {},
   "outputs": [],
   "source": [
    "def create_model(dims):\n",
    "    \"\"\" Creates a 3D CNN by defining and applying layers simultaneously. \"\"\"\n",
    "\n",
    "    input_layer = keras.layers.Input(shape=dims)\n",
    "    pool0 = keras.layers.MaxPooling3D(data_format=\"channels_first\")(input_layer)\n",
    "    conv1 = keras.layers.Conv3D(filters=32, kernel_size=3, data_format=\"channels_first\", activation=\"relu\")(pool0)\n",
    "    pool1 = keras.layers.MaxPooling3D(data_format=\"channels_first\")(conv1)\n",
    "    conv2 = keras.layers.Conv3D(filters=64, kernel_size=3, data_format=\"channels_first\", activation=\"relu\")(pool1)\n",
    "    pool2 = keras.layers.MaxPooling3D(data_format=\"channels_first\")(conv2)\n",
    "    conv3 = keras.layers.Conv3D(filters=128, kernel_size=3, data_format=\"channels_first\", activation=\"relu\")(pool2)\n",
    "\n",
    "    flatten = keras.layers.Flatten(data_format=\"channels_first\")(conv3)\n",
    "\n",
    "    fc1 = keras.layers.Dense(2,activation='softmax')(flatten)\n",
    "\n",
    "    # Define and return model\n",
    "    model = keras.models.Model(inputs=input_layer, outputs=fc1)\n",
    "    model.compile(optimizer=keras.optimizers.SGD(lr=0.01, momentum=0.9), loss=\"sparse_categorical_crossentropy\")\n",
    "\n",
    "    return model"
   ]
  },
  {
   "cell_type": "code",
   "execution_count": 5,
   "id": "368ce464-17a1-4cee-95b7-065154a070c4",
   "metadata": {},
   "outputs": [],
   "source": [
    "e = molgrid.ExampleProvider(data_root=datadir+\"/structs\",balanced=True,shuffle=True)\n",
    "e.populate(fname)"
   ]
  },
  {
   "cell_type": "code",
   "execution_count": 6,
   "id": "47552d12-5973-4737-9093-be275c350390",
   "metadata": {},
   "outputs": [
    {
     "name": "stderr",
     "output_type": "stream",
     "text": [
      "2024-07-19 15:34:57.756450: I tensorflow/compiler/xla/stream_executor/cuda/cuda_gpu_executor.cc:995] successful NUMA node read from SysFS had negative value (-1), but there must be at least one NUMA node, so returning NUMA node zero. See more at https://github.com/torvalds/linux/blob/v6.0/Documentation/ABI/testing/sysfs-bus-pci#L344-L355\n",
      "2024-07-19 15:34:57.758349: W tensorflow/core/common_runtime/gpu/gpu_device.cc:1960] Cannot dlopen some GPU libraries. Please make sure the missing libraries mentioned above are installed properly if you would like to use GPU. Follow the guide at https://www.tensorflow.org/install/gpu for how to download and setup the required libraries for your platform.\n",
      "Skipping registering GPU devices...\n",
      "WARNING:absl:`lr` is deprecated in Keras optimizer, please use `learning_rate` or use the legacy optimizer, e.g.,tf.keras.optimizers.legacy.SGD.\n"
     ]
    }
   ],
   "source": [
    "gmaker = molgrid.GridMaker()\n",
    "dims = gmaker.grid_dimensions(e.num_types())\n",
    "tensor_shape = (batch_size,)+dims\n",
    "model = create_model(dims)"
   ]
  },
  {
   "cell_type": "code",
   "execution_count": 7,
   "id": "e89abb22",
   "metadata": {},
   "outputs": [],
   "source": [
    "labels = molgrid.MGrid1f(batch_size)\n",
    "input_tensor = molgrid.MGrid5f(*tensor_shape)"
   ]
  },
  {
   "cell_type": "code",
   "execution_count": 8,
   "id": "12973458",
   "metadata": {},
   "outputs": [
    {
     "ename": "RuntimeError",
     "evalue": "Could not allocate 619315200 bytes of GPU memory in ManagedGrid",
     "output_type": "error",
     "traceback": [
      "\u001b[0;31m---------------------------------------------------------------------------\u001b[0m",
      "\u001b[0;31mRuntimeError\u001b[0m                              Traceback (most recent call last)",
      "Cell \u001b[0;32mIn[8], line 7\u001b[0m\n\u001b[1;32m      3\u001b[0m \u001b[38;5;28;01mfor\u001b[39;00m iteration \u001b[38;5;129;01min\u001b[39;00m \u001b[38;5;28mrange\u001b[39m(\u001b[38;5;241m500\u001b[39m):\n\u001b[1;32m      4\u001b[0m     \u001b[38;5;66;03m# load data\u001b[39;00m\n\u001b[1;32m      5\u001b[0m     batch \u001b[38;5;241m=\u001b[39m e\u001b[38;5;241m.\u001b[39mnext_batch(batch_size)\n\u001b[0;32m----> 7\u001b[0m     gmaker\u001b[38;5;241m.\u001b[39mforward(batch, input_tensor, \u001b[38;5;241m0\u001b[39m, random_rotation\u001b[38;5;241m=\u001b[39m\u001b[38;5;28;01mTrue\u001b[39;00m)\n\u001b[1;32m      8\u001b[0m     batch\u001b[38;5;241m.\u001b[39mextract_label(\u001b[38;5;241m0\u001b[39m, labels)\n\u001b[1;32m     10\u001b[0m     loss \u001b[38;5;241m=\u001b[39m model\u001b[38;5;241m.\u001b[39mtrain_on_batch(input_tensor\u001b[38;5;241m.\u001b[39mtonumpy(), labels\u001b[38;5;241m.\u001b[39mtonumpy())\n",
      "\u001b[0;31mRuntimeError\u001b[0m: Could not allocate 619315200 bytes of GPU memory in ManagedGrid"
     ]
    }
   ],
   "source": [
    "losses = []\n",
    "# train for 500 iterations\n",
    "for iteration in range(500):\n",
    "    # load data\n",
    "    batch = e.next_batch(batch_size)\n",
    "\n",
    "    gmaker.forward(batch, input_tensor, 0, random_rotation=True)\n",
    "    batch.extract_label(0, labels)\n",
    "\n",
    "    loss = model.train_on_batch(input_tensor.tonumpy(), labels.tonumpy())\n",
    "    losses.append(float(loss))\n",
    "    "
   ]
  },
  {
   "cell_type": "code",
   "execution_count": null,
   "id": "b6b83679",
   "metadata": {},
   "outputs": [],
   "source": [
    "%matplotlib inline"
   ]
  },
  {
   "cell_type": "code",
   "execution_count": null,
   "id": "90eb68eb",
   "metadata": {},
   "outputs": [],
   "source": [
    "plt.plot(losses)"
   ]
  },
  {
   "cell_type": "code",
   "execution_count": null,
   "id": "f0e19710",
   "metadata": {},
   "outputs": [],
   "source": []
  },
  {
   "cell_type": "code",
   "execution_count": null,
   "id": "19a68057",
   "metadata": {},
   "outputs": [],
   "source": []
  },
  {
   "cell_type": "code",
   "execution_count": null,
   "id": "0efe7b43",
   "metadata": {},
   "outputs": [],
   "source": []
  }
 ],
 "metadata": {
  "kernelspec": {
   "display_name": "Python 3 (ipykernel)",
   "language": "python",
   "name": "python3"
  },
  "language_info": {
   "codemirror_mode": {
    "name": "ipython",
    "version": 3
   },
   "file_extension": ".py",
   "mimetype": "text/x-python",
   "name": "python",
   "nbconvert_exporter": "python",
   "pygments_lexer": "ipython3",
   "version": "3.11.5"
  }
 },
 "nbformat": 4,
 "nbformat_minor": 5
}
