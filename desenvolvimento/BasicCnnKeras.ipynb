{
 "cells": [
  {
   "cell_type": "code",
   "execution_count": 165,
   "id": "1add2fb7",
   "metadata": {},
   "outputs": [
    {
     "data": {
      "text/plain": [
       "[PhysicalDevice(name='/physical_device:GPU:0', device_type='GPU')]"
      ]
     },
     "execution_count": 165,
     "metadata": {},
     "output_type": "execute_result"
    }
   ],
   "source": [
    "#🦚\n",
    "import tensorflow as tf\n",
    "physical_devices = tf.config.experimental.list_physical_devices('GPU')\n",
    "# if len(physical_devices) > 0:\n",
    "#     tf.config.experimental.set_memory_growth(physical_devices[0], True)\n",
    "physical_devices"
   ]
  },
  {
   "cell_type": "code",
   "execution_count": 166,
   "id": "c4f99f03-f5aa-42d2-9033-4fa4ace04271",
   "metadata": {},
   "outputs": [
    {
     "name": "stdout",
     "output_type": "stream",
     "text": [
      "Num GPUs Available:  1\n"
     ]
    }
   ],
   "source": [
    "print(\"Num GPUs Available: \", len(tf.config.list_physical_devices('GPU')))"
   ]
  },
  {
   "cell_type": "code",
   "execution_count": 167,
   "id": "30d891c1-0fd6-46c6-b551-54b35f818386",
   "metadata": {},
   "outputs": [
    {
     "name": "stdout",
     "output_type": "stream",
     "text": [
      "2.17.0\n"
     ]
    }
   ],
   "source": [
    "print(tf.__version__)"
   ]
  },
  {
   "cell_type": "code",
   "execution_count": 168,
   "id": "e4e317e1-b5d6-4c6d-bc7d-d25050f93bbd",
   "metadata": {
    "scrolled": true
   },
   "outputs": [],
   "source": [
    "import molgrid\n",
    "import numpy as np\n",
    "import tensorflow.keras as keras\n",
    "import keras.layers\n",
    "import os\n",
    "import matplotlib.pyplot as plt"
   ]
  },
  {
   "cell_type": "code",
   "execution_count": 169,
   "id": "339c46e2-3859-4173-8e4f-ca81e944369b",
   "metadata": {},
   "outputs": [],
   "source": [
    "molgrid.set_random_seed(0)\n",
    "np.random.seed(0)\n",
    "batch_size = 50\n",
    "datadir = os.getcwd() +'/_data'\n",
    "fname = datadir+\"/small.types\""
   ]
  },
  {
   "cell_type": "code",
   "execution_count": 170,
   "id": "0b60a666-b7c0-4ec5-8b7e-48d4f129426e",
   "metadata": {},
   "outputs": [],
   "source": [
    "def create_model(dims):\n",
    "    \"\"\" Creates a 3D CNN by defining and applying layers simultaneously. \"\"\"\n",
    "    input_layer = keras.layers.Input(shape=dims)\n",
    "    pool0 = keras.layers.MaxPooling3D(data_format=\"channels_first\")(input_layer)\n",
    "    conv1 = keras.layers.Conv3D(filters=32, kernel_size=3, data_format=\"channels_first\", activation=\"relu\")(pool0)\n",
    "    pool1 = keras.layers.MaxPooling3D(data_format=\"channels_first\")(conv1)\n",
    "    conv2 = keras.layers.Conv3D(filters=64, kernel_size=3, data_format=\"channels_first\", activation=\"relu\")(pool1)\n",
    "    pool2 = keras.layers.MaxPooling3D(data_format=\"channels_first\")(conv2)\n",
    "    conv3 = keras.layers.Conv3D(filters=128, kernel_size=3, data_format=\"channels_first\", activation=\"relu\")(pool2)\n",
    "\n",
    "    flatten = keras.layers.Flatten(data_format=\"channels_first\")(conv3)\n",
    "\n",
    "    fc1 = keras.layers.Dense(2,activation='softmax')(flatten)\n",
    "\n",
    "    # Define and return model\n",
    "    model = keras.models.Model(inputs=input_layer, outputs=fc1)\n",
    "    model.compile(optimizer=keras.optimizers.SGD(learning_rate=0.01, momentum=0.9), loss=\"Netsparse_categorical_crossentropy\")\n",
    "\n",
    "    return model"
   ]
  },
  {
   "cell_type": "code",
   "execution_count": 171,
   "id": "368ce464-17a1-4cee-95b7-065154a070c4",
   "metadata": {},
   "outputs": [
    {
     "data": {
      "text/plain": [
       "<molgrid.molgrid.ExampleProvider at 0x7f14f82af0b0>"
      ]
     },
     "execution_count": 171,
     "metadata": {},
     "output_type": "execute_result"
    }
   ],
   "source": [
    "e = molgrid.ExampleProvider(data_root=datadir+\"/structs\",balanced=True,shuffle=True)\n",
    "e"
   ]
  },
  {
   "cell_type": "code",
   "execution_count": 172,
   "id": "6108f120-6147-420d-8f2d-f13a1e225ca8",
   "metadata": {},
   "outputs": [
    {
     "data": {
      "text/plain": [
       "['0_AliphaticCarbonXSHydrophobe',\n",
       " '0_AliphaticCarbonXSNonHydrophobe',\n",
       " '0_AromaticCarbonXSHydrophobe',\n",
       " '0_AromaticCarbonXSNonHydrophobe',\n",
       " '0_Bromine_Iodine_Chlorine_Fluorine',\n",
       " '0_Nitrogen_NitrogenXSAcceptor',\n",
       " '0_NitrogenXSDonor_NitrogenXSDonorAcceptor',\n",
       " '0_Oxygen_OxygenXSAcceptor',\n",
       " '0_OxygenXSDonorAcceptor_OxygenXSDonor',\n",
       " '0_Sulfur_SulfurAcceptor',\n",
       " '0_Phosphorus',\n",
       " '0_Calcium',\n",
       " '0_Zinc',\n",
       " '0_GenericMetal_Boron_Manganese_Magnesium_Iron',\n",
       " '1_AliphaticCarbonXSHydrophobe',\n",
       " '1_AliphaticCarbonXSNonHydrophobe',\n",
       " '1_AromaticCarbonXSHydrophobe',\n",
       " '1_AromaticCarbonXSNonHydrophobe',\n",
       " '1_Bromine_Iodine',\n",
       " '1_Chlorine',\n",
       " '1_Fluorine',\n",
       " '1_Nitrogen_NitrogenXSAcceptor',\n",
       " '1_NitrogenXSDonor_NitrogenXSDonorAcceptor',\n",
       " '1_Oxygen_OxygenXSAcceptor',\n",
       " '1_OxygenXSDonorAcceptor_OxygenXSDonor',\n",
       " '1_Sulfur_SulfurAcceptor',\n",
       " '1_Phosphorus',\n",
       " '1_GenericMetal_Boron_Manganese_Magnesium_Zinc_Calcium_Iron']"
      ]
     },
     "execution_count": 172,
     "metadata": {},
     "output_type": "execute_result"
    }
   ],
   "source": [
    "e.populate(fname)\n",
    "list(e.get_type_names())"
   ]
  },
  {
   "cell_type": "code",
   "execution_count": 173,
   "id": "0e26aaef-ae43-4b2d-9f0e-51f0f80ab1d6",
   "metadata": {},
   "outputs": [
    {
     "data": {
      "text/plain": [
       "3"
      ]
     },
     "execution_count": 173,
     "metadata": {},
     "output_type": "execute_result"
    }
   ],
   "source": [
    "e.num_labels()"
   ]
  },
  {
   "cell_type": "code",
   "execution_count": 174,
   "id": "c32c2d99-9552-4331-a879-d7c6ab7e6ad5",
   "metadata": {},
   "outputs": [
    {
     "data": {
      "text/plain": [
       "28"
      ]
     },
     "execution_count": 174,
     "metadata": {},
     "output_type": "execute_result"
    }
   ],
   "source": [
    "e.num_types()"
   ]
  },
  {
   "cell_type": "code",
   "execution_count": 175,
   "id": "62619f79-4467-4c86-abdf-d2e272277513",
   "metadata": {},
   "outputs": [
    {
     "data": {
      "text/plain": [
       "<molgrid.molgrid.Example at 0x7f14c8458f40>"
      ]
     },
     "execution_count": 175,
     "metadata": {},
     "output_type": "execute_result"
    }
   ],
   "source": [
    "e.next()"
   ]
  },
  {
   "cell_type": "code",
   "execution_count": 176,
   "id": "47552d12-5973-4737-9093-be275c350390",
   "metadata": {},
   "outputs": [
    {
     "data": {
      "text/plain": [
       "<molgrid.molgrid.GridMaker at 0x7f14c85b2890>"
      ]
     },
     "execution_count": 176,
     "metadata": {},
     "output_type": "execute_result"
    }
   ],
   "source": [
    "gmaker = molgrid.GridMaker()\n",
    "gmaker"
   ]
  },
  {
   "cell_type": "code",
   "execution_count": 177,
   "id": "175f2be7-ff73-4998-8e85-4d1ae09ba44b",
   "metadata": {},
   "outputs": [
    {
     "data": {
      "text/plain": [
       "(28, 48, 48, 48)"
      ]
     },
     "execution_count": 177,
     "metadata": {},
     "output_type": "execute_result"
    }
   ],
   "source": [
    "dims = gmaker.grid_dimensions(e.num_types())\n",
    "dims"
   ]
  },
  {
   "cell_type": "code",
   "execution_count": 178,
   "id": "5a5ee08e-1c19-4ad4-b7c9-c5934f506e75",
   "metadata": {},
   "outputs": [
    {
     "data": {
      "text/plain": [
       "(50, 28, 48, 48, 48)"
      ]
     },
     "execution_count": 178,
     "metadata": {},
     "output_type": "execute_result"
    }
   ],
   "source": [
    "tensor_shape = (batch_size,)+dims\n",
    "tensor_shape"
   ]
  },
  {
   "cell_type": "code",
   "execution_count": 179,
   "id": "8172fd7d-eaeb-4673-a074-7da365edf500",
   "metadata": {},
   "outputs": [
    {
     "name": "stderr",
     "output_type": "stream",
     "text": [
      "2024-08-09 12:45:56.653704: W external/local_tsl/tsl/framework/bfc_allocator.cc:482] Allocator (GPU_0_bfc) ran out of memory trying to allocate 864.0KiB (rounded to 884736)requested by op StatelessRandomUniformV2\n",
      "If the cause is memory fragmentation maybe the environment variable 'TF_GPU_ALLOCATOR=cuda_malloc_async' will improve the situation. \n",
      "Current allocation summary follows.\n",
      "Current allocation summary follows.\n",
      "2024-08-09 12:45:56.653761: I external/local_tsl/tsl/framework/bfc_allocator.cc:1039] BFCAllocator dump for GPU_0_bfc\n",
      "2024-08-09 12:45:56.653784: I external/local_tsl/tsl/framework/bfc_allocator.cc:1046] Bin (256): \tTotal Chunks: 52, Chunks in use: 52. 13.0KiB allocated for chunks. 13.0KiB in use in bin. 3.2KiB client-requested in use in bin.\n",
      "2024-08-09 12:45:56.653799: I external/local_tsl/tsl/framework/bfc_allocator.cc:1046] Bin (512): \tTotal Chunks: 6, Chunks in use: 6. 3.0KiB allocated for chunks. 3.0KiB in use in bin. 3.0KiB client-requested in use in bin.\n",
      "2024-08-09 12:45:56.653813: I external/local_tsl/tsl/framework/bfc_allocator.cc:1046] Bin (1024): \tTotal Chunks: 2, Chunks in use: 1. 2.8KiB allocated for chunks. 1.2KiB in use in bin. 1.0KiB client-requested in use in bin.\n",
      "2024-08-09 12:45:56.653826: I external/local_tsl/tsl/framework/bfc_allocator.cc:1046] Bin (2048): \tTotal Chunks: 0, Chunks in use: 0. 0B allocated for chunks. 0B in use in bin. 0B client-requested in use in bin.\n",
      "2024-08-09 12:45:56.653838: I external/local_tsl/tsl/framework/bfc_allocator.cc:1046] Bin (4096): \tTotal Chunks: 0, Chunks in use: 0. 0B allocated for chunks. 0B in use in bin. 0B client-requested in use in bin.\n",
      "2024-08-09 12:45:56.653853: I external/local_tsl/tsl/framework/bfc_allocator.cc:1046] Bin (8192): \tTotal Chunks: 8, Chunks in use: 6. 75.0KiB allocated for chunks. 51.8KiB in use in bin. 48.0KiB client-requested in use in bin.\n",
      "2024-08-09 12:45:56.653865: I external/local_tsl/tsl/framework/bfc_allocator.cc:1046] Bin (16384): \tTotal Chunks: 0, Chunks in use: 0. 0B allocated for chunks. 0B in use in bin. 0B client-requested in use in bin.\n",
      "2024-08-09 12:45:56.653876: I external/local_tsl/tsl/framework/bfc_allocator.cc:1046] Bin (32768): \tTotal Chunks: 0, Chunks in use: 0. 0B allocated for chunks. 0B in use in bin. 0B client-requested in use in bin.\n",
      "2024-08-09 12:45:56.653890: I external/local_tsl/tsl/framework/bfc_allocator.cc:1046] Bin (65536): \tTotal Chunks: 11, Chunks in use: 7. 1.12MiB allocated for chunks. 715.5KiB in use in bin. 661.5KiB client-requested in use in bin.\n",
      "2024-08-09 12:45:56.653903: I external/local_tsl/tsl/framework/bfc_allocator.cc:1046] Bin (131072): \tTotal Chunks: 11, Chunks in use: 8. 2.30MiB allocated for chunks. 1.63MiB in use in bin. 1.57MiB client-requested in use in bin.\n",
      "2024-08-09 12:45:56.653917: I external/local_tsl/tsl/framework/bfc_allocator.cc:1046] Bin (262144): \tTotal Chunks: 1, Chunks in use: 1. 391.8KiB allocated for chunks. 391.8KiB in use in bin. 216.0KiB client-requested in use in bin.\n",
      "2024-08-09 12:45:56.653930: I external/local_tsl/tsl/framework/bfc_allocator.cc:1046] Bin (524288): \tTotal Chunks: 5, Chunks in use: 5. 4.22MiB allocated for chunks. 4.22MiB in use in bin. 4.22MiB client-requested in use in bin.\n",
      "2024-08-09 12:45:56.653943: I external/local_tsl/tsl/framework/bfc_allocator.cc:1046] Bin (1048576): \tTotal Chunks: 2, Chunks in use: 2. 2.13MiB allocated for chunks. 2.13MiB in use in bin. 1.69MiB client-requested in use in bin.\n",
      "2024-08-09 12:45:56.653954: I external/local_tsl/tsl/framework/bfc_allocator.cc:1046] Bin (2097152): \tTotal Chunks: 0, Chunks in use: 0. 0B allocated for chunks. 0B in use in bin. 0B client-requested in use in bin.\n",
      "2024-08-09 12:45:56.653981: I external/local_tsl/tsl/framework/bfc_allocator.cc:1046] Bin (4194304): \tTotal Chunks: 0, Chunks in use: 0. 0B allocated for chunks. 0B in use in bin. 0B client-requested in use in bin.\n",
      "2024-08-09 12:45:56.653987: I external/local_tsl/tsl/framework/bfc_allocator.cc:1046] Bin (8388608): \tTotal Chunks: 0, Chunks in use: 0. 0B allocated for chunks. 0B in use in bin. 0B client-requested in use in bin.\n",
      "2024-08-09 12:45:56.653992: I external/local_tsl/tsl/framework/bfc_allocator.cc:1046] Bin (16777216): \tTotal Chunks: 0, Chunks in use: 0. 0B allocated for chunks. 0B in use in bin. 0B client-requested in use in bin.\n",
      "2024-08-09 12:45:56.653997: I external/local_tsl/tsl/framework/bfc_allocator.cc:1046] Bin (33554432): \tTotal Chunks: 0, Chunks in use: 0. 0B allocated for chunks. 0B in use in bin. 0B client-requested in use in bin.\n",
      "2024-08-09 12:45:56.654002: I external/local_tsl/tsl/framework/bfc_allocator.cc:1046] Bin (67108864): \tTotal Chunks: 0, Chunks in use: 0. 0B allocated for chunks. 0B in use in bin. 0B client-requested in use in bin.\n",
      "2024-08-09 12:45:56.654010: I external/local_tsl/tsl/framework/bfc_allocator.cc:1046] Bin (134217728): \tTotal Chunks: 0, Chunks in use: 0. 0B allocated for chunks. 0B in use in bin. 0B client-requested in use in bin.\n",
      "2024-08-09 12:45:56.654016: I external/local_tsl/tsl/framework/bfc_allocator.cc:1046] Bin (268435456): \tTotal Chunks: 0, Chunks in use: 0. 0B allocated for chunks. 0B in use in bin. 0B client-requested in use in bin.\n",
      "2024-08-09 12:45:56.654024: I external/local_tsl/tsl/framework/bfc_allocator.cc:1062] Bin for 864.0KiB was 512.0KiB, Chunk State: \n",
      "2024-08-09 12:45:56.654029: I external/local_tsl/tsl/framework/bfc_allocator.cc:1075] Next region of size 4456448\n",
      "2024-08-09 12:45:56.654038: I external/local_tsl/tsl/framework/bfc_allocator.cc:1095] InUse at 7f1332000000 of size 884736 next 49\n",
      "2024-08-09 12:45:56.654043: I external/local_tsl/tsl/framework/bfc_allocator.cc:1095] InUse at 7f13320d8000 of size 96768 next 77\n",
      "2024-08-09 12:45:56.654047: I external/local_tsl/tsl/framework/bfc_allocator.cc:1095] Free  at 7f13320efa00 of size 124416 next 68\n",
      "2024-08-09 12:45:56.654052: I external/local_tsl/tsl/framework/bfc_allocator.cc:1095] InUse at 7f133210e000 of size 221184 next 67\n",
      "2024-08-09 12:45:56.654058: I external/local_tsl/tsl/framework/bfc_allocator.cc:1095] InUse at 7f1332144000 of size 96768 next 93\n",
      "2024-08-09 12:45:56.654062: I external/local_tsl/tsl/framework/bfc_allocator.cc:1095] Free  at 7f133215ba00 of size 124416 next 80\n",
      "2024-08-09 12:45:56.654066: I external/local_tsl/tsl/framework/bfc_allocator.cc:1095] InUse at 7f133217a000 of size 221184 next 62\n",
      "2024-08-09 12:45:56.654070: I external/local_tsl/tsl/framework/bfc_allocator.cc:1095] InUse at 7f13321b0000 of size 884736 next 61\n",
      "2024-08-09 12:45:56.654074: I external/local_tsl/tsl/framework/bfc_allocator.cc:1095] InUse at 7f1332288000 of size 884736 next 29\n",
      "2024-08-09 12:45:56.654079: I external/local_tsl/tsl/framework/bfc_allocator.cc:1095] InUse at 7f1332360000 of size 221184 next 87\n",
      "2024-08-09 12:45:56.654083: I external/local_tsl/tsl/framework/bfc_allocator.cc:1095] Free  at 7f1332396000 of size 221184 next 96\n",
      "2024-08-09 12:45:56.654087: I external/local_tsl/tsl/framework/bfc_allocator.cc:1095] InUse at 7f13323cc000 of size 221184 next 95\n",
      "2024-08-09 12:45:56.654091: I external/local_tsl/tsl/framework/bfc_allocator.cc:1095] Free  at 7f1332402000 of size 253952 next 18446744073709551615\n",
      "2024-08-09 12:45:56.654097: I external/local_tsl/tsl/framework/bfc_allocator.cc:1075] Next region of size 2097152\n",
      "2024-08-09 12:45:56.654101: I external/local_tsl/tsl/framework/bfc_allocator.cc:1095] InUse at 7f141da00000 of size 256 next 1\n",
      "2024-08-09 12:45:56.654106: I external/local_tsl/tsl/framework/bfc_allocator.cc:1095] InUse at 7f141da00100 of size 1280 next 2\n",
      "2024-08-09 12:45:56.654110: I external/local_tsl/tsl/framework/bfc_allocator.cc:1095] InUse at 7f141da00600 of size 256 next 3\n",
      "2024-08-09 12:45:56.654114: I external/local_tsl/tsl/framework/bfc_allocator.cc:1095] InUse at 7f141da00700 of size 256 next 4\n",
      "2024-08-09 12:45:56.654119: I external/local_tsl/tsl/framework/bfc_allocator.cc:1095] InUse at 7f141da00800 of size 256 next 6\n",
      "2024-08-09 12:45:56.654123: I external/local_tsl/tsl/framework/bfc_allocator.cc:1095] InUse at 7f141da00900 of size 256 next 7\n",
      "2024-08-09 12:45:56.654127: I external/local_tsl/tsl/framework/bfc_allocator.cc:1095] InUse at 7f141da00a00 of size 256 next 5\n",
      "2024-08-09 12:45:56.654131: I external/local_tsl/tsl/framework/bfc_allocator.cc:1095] InUse at 7f141da00b00 of size 256 next 8\n",
      "2024-08-09 12:45:56.654136: I external/local_tsl/tsl/framework/bfc_allocator.cc:1095] InUse at 7f141da00c00 of size 256 next 13\n",
      "2024-08-09 12:45:56.654140: I external/local_tsl/tsl/framework/bfc_allocator.cc:1095] InUse at 7f141da00d00 of size 256 next 11\n",
      "2024-08-09 12:45:56.654144: I external/local_tsl/tsl/framework/bfc_allocator.cc:1095] InUse at 7f141da00e00 of size 256 next 12\n",
      "2024-08-09 12:45:56.654150: I external/local_tsl/tsl/framework/bfc_allocator.cc:1095] InUse at 7f141da00f00 of size 512 next 16\n",
      "2024-08-09 12:45:56.654155: I external/local_tsl/tsl/framework/bfc_allocator.cc:1095] InUse at 7f141da01100 of size 256 next 17\n",
      "2024-08-09 12:45:56.654159: I external/local_tsl/tsl/framework/bfc_allocator.cc:1095] InUse at 7f141da01200 of size 256 next 21\n",
      "2024-08-09 12:45:56.654163: I external/local_tsl/tsl/framework/bfc_allocator.cc:1095] InUse at 7f141da01300 of size 256 next 23\n",
      "2024-08-09 12:45:56.654168: I external/local_tsl/tsl/framework/bfc_allocator.cc:1095] InUse at 7f141da01400 of size 256 next 24\n",
      "2024-08-09 12:45:56.654172: I external/local_tsl/tsl/framework/bfc_allocator.cc:1095] InUse at 7f141da01500 of size 256 next 22\n",
      "2024-08-09 12:45:56.654176: I external/local_tsl/tsl/framework/bfc_allocator.cc:1095] InUse at 7f141da01600 of size 256 next 25\n",
      "2024-08-09 12:45:56.654180: I external/local_tsl/tsl/framework/bfc_allocator.cc:1095] InUse at 7f141da01700 of size 512 next 40\n",
      "2024-08-09 12:45:56.654185: I external/local_tsl/tsl/framework/bfc_allocator.cc:1095] Free  at 7f141da01900 of size 15616 next 26\n",
      "2024-08-09 12:45:56.654189: I external/local_tsl/tsl/framework/bfc_allocator.cc:1095] InUse at 7f141da05600 of size 8192 next 27\n",
      "2024-08-09 12:45:56.654194: I external/local_tsl/tsl/framework/bfc_allocator.cc:1095] InUse at 7f141da07600 of size 166144 next 9\n",
      "2024-08-09 12:45:56.654198: I external/local_tsl/tsl/framework/bfc_allocator.cc:1095] InUse at 7f141da2ff00 of size 96768 next 10\n",
      "2024-08-09 12:45:56.654202: I external/local_tsl/tsl/framework/bfc_allocator.cc:1095] InUse at 7f141da47900 of size 256 next 37\n",
      "2024-08-09 12:45:56.654206: I external/local_tsl/tsl/framework/bfc_allocator.cc:1095] InUse at 7f141da47a00 of size 256 next 33\n",
      "2024-08-09 12:45:56.654210: I external/local_tsl/tsl/framework/bfc_allocator.cc:1095] InUse at 7f141da47b00 of size 256 next 36\n",
      "2024-08-09 12:45:56.654214: I external/local_tsl/tsl/framework/bfc_allocator.cc:1095] InUse at 7f141da47c00 of size 256 next 39\n",
      "2024-08-09 12:45:56.654218: I external/local_tsl/tsl/framework/bfc_allocator.cc:1095] InUse at 7f141da47d00 of size 256 next 42\n",
      "2024-08-09 12:45:56.654223: I external/local_tsl/tsl/framework/bfc_allocator.cc:1095] InUse at 7f141da47e00 of size 512 next 43\n",
      "2024-08-09 12:45:56.654227: I external/local_tsl/tsl/framework/bfc_allocator.cc:1095] InUse at 7f141da48000 of size 256 next 44\n",
      "2024-08-09 12:45:56.654231: I external/local_tsl/tsl/framework/bfc_allocator.cc:1095] InUse at 7f141da48100 of size 256 next 46\n",
      "2024-08-09 12:45:56.654237: I external/local_tsl/tsl/framework/bfc_allocator.cc:1095] InUse at 7f141da48200 of size 256 next 50\n",
      "2024-08-09 12:45:56.654241: I external/local_tsl/tsl/framework/bfc_allocator.cc:1095] InUse at 7f141da48300 of size 256 next 53\n",
      "2024-08-09 12:45:56.654245: I external/local_tsl/tsl/framework/bfc_allocator.cc:1095] InUse at 7f141da48400 of size 256 next 54\n",
      "2024-08-09 12:45:56.654249: I external/local_tsl/tsl/framework/bfc_allocator.cc:1095] InUse at 7f141da48500 of size 512 next 55\n",
      "2024-08-09 12:45:56.654253: I external/local_tsl/tsl/framework/bfc_allocator.cc:1095] InUse at 7f141da48700 of size 256 next 57\n",
      "2024-08-09 12:45:56.654258: I external/local_tsl/tsl/framework/bfc_allocator.cc:1095] InUse at 7f141da48800 of size 256 next 60\n",
      "2024-08-09 12:45:56.654262: I external/local_tsl/tsl/framework/bfc_allocator.cc:1095] InUse at 7f141da48900 of size 256 next 63\n",
      "2024-08-09 12:45:56.654266: I external/local_tsl/tsl/framework/bfc_allocator.cc:1095] InUse at 7f141da48a00 of size 256 next 30\n",
      "2024-08-09 12:45:56.654272: I external/local_tsl/tsl/framework/bfc_allocator.cc:1095] InUse at 7f141da48b00 of size 256 next 41\n",
      "2024-08-09 12:45:56.654276: I external/local_tsl/tsl/framework/bfc_allocator.cc:1095] InUse at 7f141da48c00 of size 256 next 38\n",
      "2024-08-09 12:45:56.654281: I external/local_tsl/tsl/framework/bfc_allocator.cc:1095] InUse at 7f141da48d00 of size 256 next 32\n",
      "2024-08-09 12:45:56.654286: I external/local_tsl/tsl/framework/bfc_allocator.cc:1095] InUse at 7f141da48e00 of size 512 next 31\n",
      "2024-08-09 12:45:56.654290: I external/local_tsl/tsl/framework/bfc_allocator.cc:1095] InUse at 7f141da49000 of size 256 next 66\n",
      "2024-08-09 12:45:56.654295: I external/local_tsl/tsl/framework/bfc_allocator.cc:1095] InUse at 7f141da49100 of size 256 next 69\n",
      "2024-08-09 12:45:56.654299: I external/local_tsl/tsl/framework/bfc_allocator.cc:1095] InUse at 7f141da49200 of size 256 next 71\n",
      "2024-08-09 12:45:56.654304: I external/local_tsl/tsl/framework/bfc_allocator.cc:1095] InUse at 7f141da49300 of size 256 next 74\n",
      "2024-08-09 12:45:56.654308: I external/local_tsl/tsl/framework/bfc_allocator.cc:1095] InUse at 7f141da49400 of size 256 next 75\n",
      "2024-08-09 12:45:56.654313: I external/local_tsl/tsl/framework/bfc_allocator.cc:1095] InUse at 7f141da49500 of size 512 next 76\n",
      "2024-08-09 12:45:56.654317: I external/local_tsl/tsl/framework/bfc_allocator.cc:1095] InUse at 7f141da49700 of size 256 next 78\n",
      "2024-08-09 12:45:56.654322: I external/local_tsl/tsl/framework/bfc_allocator.cc:1095] InUse at 7f141da49800 of size 256 next 79\n",
      "2024-08-09 12:45:56.654326: I external/local_tsl/tsl/framework/bfc_allocator.cc:1095] InUse at 7f141da49900 of size 256 next 81\n",
      "2024-08-09 12:45:56.654330: I external/local_tsl/tsl/framework/bfc_allocator.cc:1095] InUse at 7f141da49a00 of size 256 next 83\n",
      "2024-08-09 12:45:56.654335: I external/local_tsl/tsl/framework/bfc_allocator.cc:1095] InUse at 7f141da49b00 of size 256 next 84\n",
      "2024-08-09 12:45:56.654340: I external/local_tsl/tsl/framework/bfc_allocator.cc:1095] InUse at 7f141da49c00 of size 256 next 85\n",
      "2024-08-09 12:45:56.654344: I external/local_tsl/tsl/framework/bfc_allocator.cc:1095] InUse at 7f141da49d00 of size 256 next 86\n",
      "2024-08-09 12:45:56.654349: I external/local_tsl/tsl/framework/bfc_allocator.cc:1095] InUse at 7f141da49e00 of size 256 next 88\n",
      "2024-08-09 12:45:56.654353: I external/local_tsl/tsl/framework/bfc_allocator.cc:1095] InUse at 7f141da49f00 of size 256 next 89\n",
      "2024-08-09 12:45:56.654357: I external/local_tsl/tsl/framework/bfc_allocator.cc:1095] InUse at 7f141da4a000 of size 256 next 90\n",
      "2024-08-09 12:45:56.654362: I external/local_tsl/tsl/framework/bfc_allocator.cc:1095] InUse at 7f141da4a100 of size 256 next 91\n",
      "2024-08-09 12:45:56.654366: I external/local_tsl/tsl/framework/bfc_allocator.cc:1095] InUse at 7f141da4a200 of size 256 next 92\n",
      "2024-08-09 12:45:56.654370: I external/local_tsl/tsl/framework/bfc_allocator.cc:1095] InUse at 7f141da4a300 of size 256 next 94\n",
      "2024-08-09 12:45:56.654374: I external/local_tsl/tsl/framework/bfc_allocator.cc:1095] InUse at 7f141da4a400 of size 256 next 97\n",
      "2024-08-09 12:45:56.654378: I external/local_tsl/tsl/framework/bfc_allocator.cc:1095] Free  at 7f141da4a500 of size 1536 next 28\n",
      "2024-08-09 12:45:56.654383: I external/local_tsl/tsl/framework/bfc_allocator.cc:1095] InUse at 7f141da4ab00 of size 12032 next 52\n",
      "2024-08-09 12:45:56.654387: I external/local_tsl/tsl/framework/bfc_allocator.cc:1095] InUse at 7f141da4da00 of size 8192 next 51\n",
      "2024-08-09 12:45:56.654392: I external/local_tsl/tsl/framework/bfc_allocator.cc:1095] InUse at 7f141da4fa00 of size 8192 next 64\n",
      "2024-08-09 12:45:56.654396: I external/local_tsl/tsl/framework/bfc_allocator.cc:1095] InUse at 7f141da51a00 of size 401152 next 15\n",
      "2024-08-09 12:45:56.654400: I external/local_tsl/tsl/framework/bfc_allocator.cc:1095] InUse at 7f141dab3900 of size 221184 next 14\n",
      "2024-08-09 12:45:56.654405: I external/local_tsl/tsl/framework/bfc_allocator.cc:1095] InUse at 7f141dae9900 of size 1140480 next 18446744073709551615\n",
      "2024-08-09 12:45:56.654409: I external/local_tsl/tsl/framework/bfc_allocator.cc:1075] Next region of size 4194304\n",
      "2024-08-09 12:45:56.654414: I external/local_tsl/tsl/framework/bfc_allocator.cc:1095] Free  at 7f1427a00000 of size 8192 next 73\n",
      "2024-08-09 12:45:56.654418: I external/local_tsl/tsl/framework/bfc_allocator.cc:1095] InUse at 7f1427a02000 of size 8192 next 72\n",
      "2024-08-09 12:45:56.654423: I external/local_tsl/tsl/framework/bfc_allocator.cc:1095] InUse at 7f1427a04000 of size 8192 next 82\n",
      "2024-08-09 12:45:56.654427: I external/local_tsl/tsl/framework/bfc_allocator.cc:1095] Free  at 7f1427a06000 of size 72192 next 45\n",
      "2024-08-09 12:45:56.654432: I external/local_tsl/tsl/framework/bfc_allocator.cc:1095] InUse at 7f1427a17a00 of size 124416 next 35\n",
      "2024-08-09 12:45:56.654436: I external/local_tsl/tsl/framework/bfc_allocator.cc:1095] InUse at 7f1427a36000 of size 96768 next 65\n",
      "2024-08-09 12:45:56.654440: I external/local_tsl/tsl/framework/bfc_allocator.cc:1095] Free  at 7f1427a4da00 of size 124416 next 34\n",
      "2024-08-09 12:45:56.654445: I external/local_tsl/tsl/framework/bfc_allocator.cc:1095] InUse at 7f1427a6c000 of size 96768 next 56\n",
      "2024-08-09 12:45:56.654449: I external/local_tsl/tsl/framework/bfc_allocator.cc:1095] InUse at 7f1427a83a00 of size 124416 next 47\n",
      "2024-08-09 12:45:56.654453: I external/local_tsl/tsl/framework/bfc_allocator.cc:1095] InUse at 7f1427aa2000 of size 221184 next 20\n",
      "2024-08-09 12:45:56.654458: I external/local_tsl/tsl/framework/bfc_allocator.cc:1095] InUse at 7f1427ad8000 of size 884736 next 18\n",
      "2024-08-09 12:45:56.654462: I external/local_tsl/tsl/framework/bfc_allocator.cc:1095] Free  at 7f1427bb0000 of size 221184 next 59\n",
      "2024-08-09 12:45:56.654466: I external/local_tsl/tsl/framework/bfc_allocator.cc:1095] InUse at 7f1427be6000 of size 221184 next 58\n",
      "2024-08-09 12:45:56.654471: I external/local_tsl/tsl/framework/bfc_allocator.cc:1095] InUse at 7f1427c1c000 of size 884736 next 70\n",
      "2024-08-09 12:45:56.654475: I external/local_tsl/tsl/framework/bfc_allocator.cc:1095] InUse at 7f1427cf4000 of size 1097728 next 18446744073709551615\n",
      "2024-08-09 12:45:56.654496: I external/local_tsl/tsl/framework/bfc_allocator.cc:1100]      Summary of in-use Chunks by size: \n",
      "2024-08-09 12:45:56.654503: I external/local_tsl/tsl/framework/bfc_allocator.cc:1103] 52 Chunks of size 256 totalling 13.0KiB\n",
      "2024-08-09 12:45:56.654509: I external/local_tsl/tsl/framework/bfc_allocator.cc:1103] 6 Chunks of size 512 totalling 3.0KiB\n",
      "2024-08-09 12:45:56.654513: I external/local_tsl/tsl/framework/bfc_allocator.cc:1103] 1 Chunks of size 1280 totalling 1.2KiB\n",
      "2024-08-09 12:45:56.654518: I external/local_tsl/tsl/framework/bfc_allocator.cc:1103] 5 Chunks of size 8192 totalling 40.0KiB\n",
      "2024-08-09 12:45:56.654523: I external/local_tsl/tsl/framework/bfc_allocator.cc:1103] 1 Chunks of size 12032 totalling 11.8KiB\n",
      "2024-08-09 12:45:56.654528: I external/local_tsl/tsl/framework/bfc_allocator.cc:1103] 5 Chunks of size 96768 totalling 472.5KiB\n",
      "2024-08-09 12:45:56.654533: I external/local_tsl/tsl/framework/bfc_allocator.cc:1103] 2 Chunks of size 124416 totalling 243.0KiB\n",
      "2024-08-09 12:45:56.654538: I external/local_tsl/tsl/framework/bfc_allocator.cc:1103] 1 Chunks of size 166144 totalling 162.2KiB\n",
      "2024-08-09 12:45:56.654543: I external/local_tsl/tsl/framework/bfc_allocator.cc:1103] 7 Chunks of size 221184 totalling 1.48MiB\n",
      "2024-08-09 12:45:56.654547: I external/local_tsl/tsl/framework/bfc_allocator.cc:1103] 1 Chunks of size 401152 totalling 391.8KiB\n",
      "2024-08-09 12:45:56.654552: I external/local_tsl/tsl/framework/bfc_allocator.cc:1103] 5 Chunks of size 884736 totalling 4.22MiB\n",
      "2024-08-09 12:45:56.654557: I external/local_tsl/tsl/framework/bfc_allocator.cc:1103] 1 Chunks of size 1097728 totalling 1.05MiB\n",
      "2024-08-09 12:45:56.654561: I external/local_tsl/tsl/framework/bfc_allocator.cc:1103] 1 Chunks of size 1140480 totalling 1.09MiB\n",
      "2024-08-09 12:45:56.654566: I external/local_tsl/tsl/framework/bfc_allocator.cc:1107] Sum Total of in-use chunks: 9.14MiB\n",
      "2024-08-09 12:45:56.654571: I external/local_tsl/tsl/framework/bfc_allocator.cc:1109] Total bytes in pool: 10747904 memory_limit_: 10747904 available bytes: 0 curr_region_allocation_bytes_: 16777216\n",
      "2024-08-09 12:45:56.654581: I external/local_tsl/tsl/framework/bfc_allocator.cc:1114] Stats: \n",
      "Limit:                        10747904\n",
      "InUse:                         9580800\n",
      "MaxInUse:                     10022912\n",
      "NumAllocs:                         290\n",
      "MaxAllocSize:                  1540096\n",
      "Reserved:                            0\n",
      "PeakReserved:                        0\n",
      "LargestFreeBlock:                    0\n",
      "\n",
      "2024-08-09 12:45:56.654593: W external/local_tsl/tsl/framework/bfc_allocator.cc:494] ***********************************__***_******x***********xx***_*************_********************x\n",
      "2024-08-09 12:45:56.654617: W tensorflow/core/framework/op_kernel.cc:1840] OP_REQUIRES failed at stateless_random_ops_v2.cc:64 : RESOURCE_EXHAUSTED: OOM when allocating tensor with shape[3,3,3,64,128] and type float on /job:localhost/replica:0/task:0/device:GPU:0 by allocator GPU_0_bfc\n",
      "2024-08-09 12:45:56.654637: I tensorflow/core/framework/local_rendezvous.cc:404] Local rendezvous is aborting with status: RESOURCE_EXHAUSTED: OOM when allocating tensor with shape[3,3,3,64,128] and type float on /job:localhost/replica:0/task:0/device:GPU:0 by allocator GPU_0_bfc\n"
     ]
    },
    {
     "ename": "ResourceExhaustedError",
     "evalue": "{{function_node __wrapped__StatelessRandomUniformV2_device_/job:localhost/replica:0/task:0/device:GPU:0}} OOM when allocating tensor with shape[3,3,3,64,128] and type float on /job:localhost/replica:0/task:0/device:GPU:0 by allocator GPU_0_bfc [Op:StatelessRandomUniformV2] name: ",
     "output_type": "error",
     "traceback": [
      "\u001b[0;31m---------------------------------------------------------------------------\u001b[0m",
      "\u001b[0;31mResourceExhaustedError\u001b[0m                    Traceback (most recent call last)",
      "Cell \u001b[0;32mIn[179], line 1\u001b[0m\n\u001b[0;32m----> 1\u001b[0m model \u001b[38;5;241m=\u001b[39m \u001b[43mcreate_model\u001b[49m\u001b[43m(\u001b[49m\u001b[43mdims\u001b[49m\u001b[43m)\u001b[49m\n\u001b[1;32m      2\u001b[0m model\n",
      "Cell \u001b[0;32mIn[170], line 9\u001b[0m, in \u001b[0;36mcreate_model\u001b[0;34m(dims)\u001b[0m\n\u001b[1;32m      7\u001b[0m conv2 \u001b[38;5;241m=\u001b[39m keras\u001b[38;5;241m.\u001b[39mlayers\u001b[38;5;241m.\u001b[39mConv3D(filters\u001b[38;5;241m=\u001b[39m\u001b[38;5;241m64\u001b[39m, kernel_size\u001b[38;5;241m=\u001b[39m\u001b[38;5;241m3\u001b[39m, data_format\u001b[38;5;241m=\u001b[39m\u001b[38;5;124m\"\u001b[39m\u001b[38;5;124mchannels_first\u001b[39m\u001b[38;5;124m\"\u001b[39m, activation\u001b[38;5;241m=\u001b[39m\u001b[38;5;124m\"\u001b[39m\u001b[38;5;124mrelu\u001b[39m\u001b[38;5;124m\"\u001b[39m)(pool1)\n\u001b[1;32m      8\u001b[0m pool2 \u001b[38;5;241m=\u001b[39m keras\u001b[38;5;241m.\u001b[39mlayers\u001b[38;5;241m.\u001b[39mMaxPooling3D(data_format\u001b[38;5;241m=\u001b[39m\u001b[38;5;124m\"\u001b[39m\u001b[38;5;124mchannels_first\u001b[39m\u001b[38;5;124m\"\u001b[39m)(conv2)\n\u001b[0;32m----> 9\u001b[0m conv3 \u001b[38;5;241m=\u001b[39m \u001b[43mkeras\u001b[49m\u001b[38;5;241;43m.\u001b[39;49m\u001b[43mlayers\u001b[49m\u001b[38;5;241;43m.\u001b[39;49m\u001b[43mConv3D\u001b[49m\u001b[43m(\u001b[49m\u001b[43mfilters\u001b[49m\u001b[38;5;241;43m=\u001b[39;49m\u001b[38;5;241;43m128\u001b[39;49m\u001b[43m,\u001b[49m\u001b[43m \u001b[49m\u001b[43mkernel_size\u001b[49m\u001b[38;5;241;43m=\u001b[39;49m\u001b[38;5;241;43m3\u001b[39;49m\u001b[43m,\u001b[49m\u001b[43m \u001b[49m\u001b[43mdata_format\u001b[49m\u001b[38;5;241;43m=\u001b[39;49m\u001b[38;5;124;43m\"\u001b[39;49m\u001b[38;5;124;43mchannels_first\u001b[39;49m\u001b[38;5;124;43m\"\u001b[39;49m\u001b[43m,\u001b[49m\u001b[43m \u001b[49m\u001b[43mactivation\u001b[49m\u001b[38;5;241;43m=\u001b[39;49m\u001b[38;5;124;43m\"\u001b[39;49m\u001b[38;5;124;43mrelu\u001b[39;49m\u001b[38;5;124;43m\"\u001b[39;49m\u001b[43m)\u001b[49m\u001b[43m(\u001b[49m\u001b[43mpool2\u001b[49m\u001b[43m)\u001b[49m\n\u001b[1;32m     11\u001b[0m flatten \u001b[38;5;241m=\u001b[39m keras\u001b[38;5;241m.\u001b[39mlayers\u001b[38;5;241m.\u001b[39mFlatten(data_format\u001b[38;5;241m=\u001b[39m\u001b[38;5;124m\"\u001b[39m\u001b[38;5;124mchannels_first\u001b[39m\u001b[38;5;124m\"\u001b[39m)(conv3)\n\u001b[1;32m     13\u001b[0m fc1 \u001b[38;5;241m=\u001b[39m keras\u001b[38;5;241m.\u001b[39mlayers\u001b[38;5;241m.\u001b[39mDense(\u001b[38;5;241m2\u001b[39m,activation\u001b[38;5;241m=\u001b[39m\u001b[38;5;124m'\u001b[39m\u001b[38;5;124msoftmax\u001b[39m\u001b[38;5;124m'\u001b[39m)(flatten)\n",
      "File \u001b[0;32m/usr/local/lib/python3.10/dist-packages/keras/src/utils/traceback_utils.py:122\u001b[0m, in \u001b[0;36mfilter_traceback.<locals>.error_handler\u001b[0;34m(*args, **kwargs)\u001b[0m\n\u001b[1;32m    119\u001b[0m     filtered_tb \u001b[38;5;241m=\u001b[39m _process_traceback_frames(e\u001b[38;5;241m.\u001b[39m__traceback__)\n\u001b[1;32m    120\u001b[0m     \u001b[38;5;66;03m# To get the full stack trace, call:\u001b[39;00m\n\u001b[1;32m    121\u001b[0m     \u001b[38;5;66;03m# `keras.config.disable_traceback_filtering()`\u001b[39;00m\n\u001b[0;32m--> 122\u001b[0m     \u001b[38;5;28;01mraise\u001b[39;00m e\u001b[38;5;241m.\u001b[39mwith_traceback(filtered_tb) \u001b[38;5;28;01mfrom\u001b[39;00m \u001b[38;5;28;01mNone\u001b[39;00m\n\u001b[1;32m    123\u001b[0m \u001b[38;5;28;01mfinally\u001b[39;00m:\n\u001b[1;32m    124\u001b[0m     \u001b[38;5;28;01mdel\u001b[39;00m filtered_tb\n",
      "File \u001b[0;32m/usr/local/lib/python3.10/dist-packages/tensorflow/python/framework/ops.py:5983\u001b[0m, in \u001b[0;36mraise_from_not_ok_status\u001b[0;34m(e, name)\u001b[0m\n\u001b[1;32m   5981\u001b[0m \u001b[38;5;28;01mdef\u001b[39;00m \u001b[38;5;21mraise_from_not_ok_status\u001b[39m(e, name) \u001b[38;5;241m-\u001b[39m\u001b[38;5;241m>\u001b[39m NoReturn:\n\u001b[1;32m   5982\u001b[0m   e\u001b[38;5;241m.\u001b[39mmessage \u001b[38;5;241m+\u001b[39m\u001b[38;5;241m=\u001b[39m (\u001b[38;5;124m\"\u001b[39m\u001b[38;5;124m name: \u001b[39m\u001b[38;5;124m\"\u001b[39m \u001b[38;5;241m+\u001b[39m \u001b[38;5;28mstr\u001b[39m(name \u001b[38;5;28;01mif\u001b[39;00m name \u001b[38;5;129;01mis\u001b[39;00m \u001b[38;5;129;01mnot\u001b[39;00m \u001b[38;5;28;01mNone\u001b[39;00m \u001b[38;5;28;01melse\u001b[39;00m \u001b[38;5;124m\"\u001b[39m\u001b[38;5;124m\"\u001b[39m))\n\u001b[0;32m-> 5983\u001b[0m   \u001b[38;5;28;01mraise\u001b[39;00m core\u001b[38;5;241m.\u001b[39m_status_to_exception(e) \u001b[38;5;28;01mfrom\u001b[39;00m \u001b[38;5;28;01mNone\u001b[39;00m\n",
      "\u001b[0;31mResourceExhaustedError\u001b[0m: {{function_node __wrapped__StatelessRandomUniformV2_device_/job:localhost/replica:0/task:0/device:GPU:0}} OOM when allocating tensor with shape[3,3,3,64,128] and type float on /job:localhost/replica:0/task:0/device:GPU:0 by allocator GPU_0_bfc [Op:StatelessRandomUniformV2] name: "
     ]
    }
   ],
   "source": [
    "model = create_model(dims)\n",
    "model"
   ]
  },
  {
   "cell_type": "code",
   "execution_count": null,
   "id": "e89abb22",
   "metadata": {},
   "outputs": [],
   "source": [
    "labels = molgrid.MGrid1f(batch_size)\n",
    "labels"
   ]
  },
  {
   "cell_type": "code",
   "execution_count": null,
   "id": "0d6c6925-8809-4ee1-871c-1f477ab58e9c",
   "metadata": {},
   "outputs": [],
   "source": [
    "molgrid.get_gpu_device()"
   ]
  },
  {
   "cell_type": "code",
   "execution_count": 136,
   "id": "b37f79cf-baeb-40ff-9abe-b5e5198c7ab4",
   "metadata": {},
   "outputs": [
    {
     "data": {
      "text/plain": [
       "True"
      ]
     },
     "execution_count": 136,
     "metadata": {},
     "output_type": "execute_result"
    }
   ],
   "source": [
    "molgrid.get_gpu_enabled()"
   ]
  },
  {
   "cell_type": "code",
   "execution_count": 137,
   "id": "bb3b4f78-746a-49e0-a4dd-31c3e1f0c3dd",
   "metadata": {},
   "outputs": [
    {
     "name": "stdout",
     "output_type": "stream",
     "text": [
      "['AtomTyper', 'BatchedCoords2GridFunction', 'C', 'CartesianGrid', 'CoordCache', 'CoordinateSet', 'CoordinateSetVec', 'Coords2Grid', 'Coords2GridFunction', 'DoublePtr', 'ElementIndexTyper', 'Example', 'ExampleDataset', 'ExampleProvider', 'ExampleProviderSettings', 'ExampleVec', 'FileAtomMapper', 'FileMappedElementTyper', 'FileMappedGninaTyper', 'FloatPtr', 'FloatVec', 'GninaIndexTyper', 'GninaVectorTyper', 'Grid1d', 'Grid1dCUDA', 'Grid1f', 'Grid1fCUDA', 'Grid2CoordsGradientFunction', 'Grid2d', 'Grid2dCUDA', 'Grid2f', 'Grid2fCUDA', 'Grid3d', 'Grid3dCUDA', 'Grid3f', 'Grid3fCUDA', 'Grid4d', 'Grid4dCUDA', 'Grid4f', 'Grid4fCUDA', 'Grid5d', 'Grid5dCUDA', 'Grid5f', 'Grid5fCUDA', 'Grid6d', 'Grid6dCUDA', 'Grid6f', 'Grid6fCUDA', 'Grid7d', 'Grid7dCUDA', 'Grid7f', 'Grid7fCUDA', 'Grid8d', 'Grid8dCUDA', 'Grid8f', 'Grid8fCUDA', 'GridInterpolater', 'GridMaker', 'IterationScheme', 'MGrid1d', 'MGrid1f', 'MGrid2d', 'MGrid2f', 'MGrid3d', 'MGrid3f', 'MGrid4d', 'MGrid4f', 'MGrid5d', 'MGrid5f', 'MGrid6d', 'MGrid6f', 'MGrid7d', 'MGrid7f', 'MGrid8d', 'MGrid8f', 'MolDataset', 'NullIndexTyper', 'PythonCallbackIndexTyper', 'PythonCallbackVectorTyper', 'Quaternion', 'SizeVec', 'StringVec', 'SubsetAtomMapper', 'SubsettedElementTyper', 'SubsettedGninaTyper', 'Transform', '__builtins__', '__cached__', '__doc__', '__file__', '__loader__', '__name__', '__package__', '__path__', '__spec__', '__version__', 'defaultGninaLigandTyper', 'defaultGninaReceptorTyper', 'float3', 'get_gpu_device', 'get_gpu_enabled', 'inspect', 'make_grid_ndarray', 'make_grid_tensor', 'metadata', 'mg', 'molgrid', 'name', 'np', 'read_dx', 'read_dx_grids', 'set_gpu_device', 'set_gpu_enabled', 'set_random_seed', 'sys', 'tensor_as_grid', 'todoubleptr', 'tofloatptr', 'tonumpy', 'torch', 'torch_bindings', 'types', 'write_dx', 'write_dx_grids', 'write_map']\n"
     ]
    }
   ],
   "source": [
    "print(dir(molgrid))"
   ]
  },
  {
   "cell_type": "code",
   "execution_count": 142,
   "id": "7bee4682-8911-48d0-b0cb-b806d14c7072",
   "metadata": {},
   "outputs": [
    {
     "ename": "ArgumentError",
     "evalue": "Python argument types in\n    Grid5fCUDA.__init__(Grid5fCUDA, int, int, int, int, int)\ndid not match C++ signature:\n    __init__(_object*, libmolgrid::Grid<float, 5ul, true>)\n    __init__(_object*, Pointer<float>, unsigned int, unsigned int, unsigned int, unsigned int, unsigned int)",
     "output_type": "error",
     "traceback": [
      "\u001b[0;31m---------------------------------------------------------------------------\u001b[0m",
      "\u001b[0;31mArgumentError\u001b[0m                             Traceback (most recent call last)",
      "Cell \u001b[0;32mIn[142], line 1\u001b[0m\n\u001b[0;32m----> 1\u001b[0m input_tensor \u001b[38;5;241m=\u001b[39m \u001b[43mmolgrid\u001b[49m\u001b[38;5;241;43m.\u001b[39;49m\u001b[43mGrid5fCUDA\u001b[49m\u001b[43m(\u001b[49m\u001b[38;5;241;43m*\u001b[39;49m\u001b[43mtensor_shape\u001b[49m\u001b[43m)\u001b[49m\n\u001b[1;32m      2\u001b[0m input_tensor\n",
      "\u001b[0;31mArgumentError\u001b[0m: Python argument types in\n    Grid5fCUDA.__init__(Grid5fCUDA, int, int, int, int, int)\ndid not match C++ signature:\n    __init__(_object*, libmolgrid::Grid<float, 5ul, true>)\n    __init__(_object*, Pointer<float>, unsigned int, unsigned int, unsigned int, unsigned int, unsigned int)"
     ]
    }
   ],
   "source": [
    "input_tensor = molgrid.Grid5f(*tensor_shape)\n",
    "input_tensor"
   ]
  },
  {
   "cell_type": "code",
   "execution_count": 139,
   "id": "12973458",
   "metadata": {},
   "outputs": [
    {
     "ename": "RuntimeError",
     "evalue": "Could not allocate 619315200 bytes of GPU memory in ManagedGrid",
     "output_type": "error",
     "traceback": [
      "\u001b[0;31m---------------------------------------------------------------------------\u001b[0m",
      "\u001b[0;31mRuntimeError\u001b[0m                              Traceback (most recent call last)",
      "Cell \u001b[0;32mIn[139], line 7\u001b[0m\n\u001b[1;32m      3\u001b[0m \u001b[38;5;28;01mfor\u001b[39;00m iteration \u001b[38;5;129;01min\u001b[39;00m \u001b[38;5;28mrange\u001b[39m(\u001b[38;5;241m10\u001b[39m):\n\u001b[1;32m      4\u001b[0m     \u001b[38;5;66;03m# load data\u001b[39;00m\n\u001b[1;32m      5\u001b[0m     batch \u001b[38;5;241m=\u001b[39m e\u001b[38;5;241m.\u001b[39mnext_batch(batch_size)\n\u001b[0;32m----> 7\u001b[0m     \u001b[43mgmaker\u001b[49m\u001b[38;5;241;43m.\u001b[39;49m\u001b[43mforward\u001b[49m\u001b[43m(\u001b[49m\u001b[43mbatch\u001b[49m\u001b[43m,\u001b[49m\u001b[43m \u001b[49m\u001b[43minput_tensor\u001b[49m\u001b[43m,\u001b[49m\u001b[43m \u001b[49m\u001b[38;5;241;43m0\u001b[39;49m\u001b[43m,\u001b[49m\u001b[43m \u001b[49m\u001b[43mrandom_rotation\u001b[49m\u001b[38;5;241;43m=\u001b[39;49m\u001b[38;5;28;43;01mTrue\u001b[39;49;00m\u001b[43m)\u001b[49m\n\u001b[1;32m      8\u001b[0m     batch\u001b[38;5;241m.\u001b[39mextract_label(\u001b[38;5;241m0\u001b[39m, labels)\n\u001b[1;32m     10\u001b[0m     loss \u001b[38;5;241m=\u001b[39m model\u001b[38;5;241m.\u001b[39mtrain_on_batch(input_tensor\u001b[38;5;241m.\u001b[39mtonumpy(), labels\u001b[38;5;241m.\u001b[39mtonumpy())\n",
      "\u001b[0;31mRuntimeError\u001b[0m: Could not allocate 619315200 bytes of GPU memory in ManagedGrid"
     ]
    }
   ],
   "source": [
    "losses = []\n",
    "# train for 500 iterations\n",
    "for iteration in range(10):\n",
    "    # load data\n",
    "    batch = e.next_batch(batch_size)\n",
    "\n",
    "    gmaker.forward(batch, input_tensor, 0, random_rotation=True)\n",
    "    batch.extract_label(0, labels)\n",
    "\n",
    "    loss = model.train_on_batch(input_tensor.tonumpy(), labels.tonumpy())\n",
    "    losses.append(float(loss))\n",
    "    "
   ]
  },
  {
   "cell_type": "code",
   "execution_count": 140,
   "id": "b6b83679",
   "metadata": {},
   "outputs": [],
   "source": [
    "%matplotlib inline"
   ]
  },
  {
   "cell_type": "code",
   "execution_count": 141,
   "id": "90eb68eb",
   "metadata": {},
   "outputs": [
    {
     "data": {
      "text/plain": [
       "[<matplotlib.lines.Line2D at 0x7f14f83b4220>]"
      ]
     },
     "execution_count": 141,
     "metadata": {},
     "output_type": "execute_result"
    },
    {
     "data": {
      "image/png": "[encoded data removed]",
      "text/plain": [
       "<Figure size 640x480 with 1 Axes>"
      ]
     },
     "metadata": {},
     "output_type": "display_data"
    }
   ],
   "source": [
    "plt.plot(losses)"
   ]
  },
  {
   "cell_type": "code",
   "execution_count": null,
   "id": "f0e19710",
   "metadata": {},
   "outputs": [],
   "source": []
  },
  {
   "cell_type": "code",
   "execution_count": null,
   "id": "19a68057",
   "metadata": {},
   "outputs": [],
   "source": []
  },
  {
   "cell_type": "code",
   "execution_count": null,
   "id": "0efe7b43",
   "metadata": {},
   "outputs": [],
   "source": []
  }
 ],
 "metadata": {
  "kernelspec": {
   "display_name": "Python 3 (ipykernel)",
   "language": "python",
   "name": "python3"
  },
  "language_info": {
   "codemirror_mode": {
    "name": "ipython",
    "version": 3
   },
   "file_extension": ".py",
   "mimetype": "text/x-python",
   "name": "python",
   "nbconvert_exporter": "python",
   "pygments_lexer": "ipython3",
   "version": "3.10.12"
  }
 },
 "nbformat": 4,
 "nbformat_minor": 5
}
