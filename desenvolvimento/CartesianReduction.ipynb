{
 "cells": [
  {
   "cell_type": "code",
   "execution_count": 25,
   "id": "f5bb83bf-fe4b-43a7-81f5-ce578c688f5c",
   "metadata": {},
   "outputs": [],
   "source": [
    "import molgrid\n",
    "\n",
    "import numpy as np\n",
    "import torch\n",
    "import torch.nn as nn\n",
    "import torch.nn.functional as F\n",
    "import torch.optim as optim\n",
    "import matplotlib.pyplot as plt\n",
    "import seaborn as sns\n",
    "import os"
   ]
  },
  {
   "cell_type": "code",
   "execution_count": 6,
   "id": "8d338062-999d-4c5e-b931-7d3605c371e3",
   "metadata": {},
   "outputs": [],
   "source": [
    "n_types = 1\n",
    "n_atoms = 1\n",
    "radii = np.ones((n_types))*2.5  #fixed radius of 2.5A"
   ]
  },
  {
   "cell_type": "code",
   "execution_count": 7,
   "id": "236b15d4-a538-467c-b50a-ab2f312ea06b",
   "metadata": {},
   "outputs": [],
   "source": [
    "class CNN(nn.Module):\n",
    "    \n",
    "    def __init__(self, gmaker, n_types, n_latent, type_radii, n_atoms=80):\n",
    "        super(CNN, self).__init__()\n",
    "        \n",
    "        self.n_atoms = n_atoms\n",
    "        self.type_radii = type_radii\n",
    "        self.n_types = n_types\n",
    "        \n",
    "        dims = gmaker.grid_dimensions(n_types)\n",
    "        \n",
    "        self.conv1 = nn.Conv3d(n_types, 32, kernel_size=5, padding=2)\n",
    "        self.pool1 = nn.MaxPool3d(2)\n",
    "        self.conv2 = nn.Conv3d(32, 32, kernel_size=5, padding=2)\n",
    "        self.pool2 = nn.MaxPool3d(2)\n",
    "        self.conv3 = nn.Conv3d(32, 32, kernel_size=5, padding=2)\n",
    "        self.pool3 = nn.MaxPool3d(2)        \n",
    "        self.last_layer_size = 32 * dims[1]//8 * dims[2]//8 * dims[3]//8\n",
    "        self.fc_latent1 = nn.Linear(self.last_layer_size, n_latent)\n",
    "        self.fc_coords = nn.Linear(n_latent, n_atoms*3)\n",
    "        self.fc_types = nn.Linear(n_latent, n_atoms*(n_types))\n",
    "        self.c2grid = molgrid.Coords2Grid(gmaker, center=(0,0,0))\n",
    "\n",
    "    \n",
    "    def to(self, device):\n",
    "        ret = super(CNN, self).to(device)\n",
    "        self.device = device\n",
    "        return ret\n",
    "    \n",
    "    def forward(self, input, temp=0.0):\n",
    "        \n",
    "        batch_size = input.shape[0]\n",
    "        \n",
    "        # get latent encoding of true density from CNN\n",
    "        x = F.elu(self.conv1(input))\n",
    "        x = self.pool1(x)\n",
    "        x = F.elu(self.conv2(x))\n",
    "        x = self.pool2(x)    \n",
    "        x = F.elu(self.conv3(x))\n",
    "        x = self.pool3(x)            \n",
    "        x = x.reshape(-1, self.last_layer_size)\n",
    "        x = F.elu(self.fc_latent1(x))\n",
    "        coords = self.fc_coords(x).view(batch_size, self.n_atoms, 3)\n",
    "        types = F.softmax(self.fc_types(x).view(batch_size, self.n_atoms, -1), dim=-1)\n",
    "        grid_gen = self.c2grid(coords, types, self.type_radii)\n",
    "\n",
    "        return coords, types, grid_gen"
   ]
  },
  {
   "cell_type": "code",
   "execution_count": 8,
   "id": "0f557754-d05c-4cfe-8e59-e25007fdf131",
   "metadata": {},
   "outputs": [],
   "source": [
    "def out_of_box_loss(c, max_val):\n",
    "    '''hingey loss at box boundaries'''\n",
    "    return (0.1*F.relu(abs(c)-max_val)).sum()"
   ]
  },
  {
   "cell_type": "code",
   "execution_count": 9,
   "id": "c67dafaf-3fc6-4792-beea-3d06d2aab0f1",
   "metadata": {},
   "outputs": [],
   "source": [
    "def weight_init(m):\n",
    "    if isinstance(m, nn.Conv3d) or isinstance(m, nn.Linear):\n",
    "        nn.init.xavier_uniform_(m.weight.data)"
   ]
  },
  {
   "cell_type": "code",
   "execution_count": 10,
   "id": "7fcc3b36-12a9-4802-9519-0f76b072388a",
   "metadata": {},
   "outputs": [
    {
     "ename": "NameError",
     "evalue": "name 'batch_size' is not defined",
     "output_type": "error",
     "traceback": [
      "\u001b[0;31m---------------------------------------------------------------------------\u001b[0m",
      "\u001b[0;31mNameError\u001b[0m                                 Traceback (most recent call last)",
      "Cell \u001b[0;32mIn[10], line 4\u001b[0m\n\u001b[1;32m      1\u001b[0m gmaker \u001b[38;5;241m=\u001b[39m molgrid\u001b[38;5;241m.\u001b[39mGridMaker(resolution\u001b[38;5;241m=\u001b[39m\u001b[38;5;241m0.5\u001b[39m, dimension\u001b[38;5;241m=\u001b[39m\u001b[38;5;241m23.5\u001b[39m, radius_type_indexed\u001b[38;5;241m=\u001b[39m\u001b[38;5;28;01mTrue\u001b[39;00m)\n\u001b[1;32m      2\u001b[0m dims \u001b[38;5;241m=\u001b[39m gmaker\u001b[38;5;241m.\u001b[39mgrid_dimensions(\u001b[38;5;241m1\u001b[39m)\n\u001b[0;32m----> 4\u001b[0m grid_true \u001b[38;5;241m=\u001b[39m torch\u001b[38;5;241m.\u001b[39mempty(\u001b[43mbatch_size\u001b[49m, \u001b[38;5;241m*\u001b[39mdims, dtype\u001b[38;5;241m=\u001b[39mtorch\u001b[38;5;241m.\u001b[39mfloat32, device\u001b[38;5;241m=\u001b[39m\u001b[38;5;124m'\u001b[39m\u001b[38;5;124mcuda\u001b[39m\u001b[38;5;124m'\u001b[39m)\n\u001b[1;32m      5\u001b[0m type_count_true \u001b[38;5;241m=\u001b[39m torch\u001b[38;5;241m.\u001b[39mempty(batch_size, n_types, dtype\u001b[38;5;241m=\u001b[39mtorch\u001b[38;5;241m.\u001b[39mfloat32, device\u001b[38;5;241m=\u001b[39m\u001b[38;5;124m'\u001b[39m\u001b[38;5;124mcuda\u001b[39m\u001b[38;5;124m'\u001b[39m)\n\u001b[1;32m      7\u001b[0m origtypes \u001b[38;5;241m=\u001b[39m torch\u001b[38;5;241m.\u001b[39mones(batch_size,n_atoms,\u001b[38;5;241m1\u001b[39m,device\u001b[38;5;241m=\u001b[39m\u001b[38;5;124m'\u001b[39m\u001b[38;5;124mcuda\u001b[39m\u001b[38;5;124m'\u001b[39m)\n",
      "\u001b[0;31mNameError\u001b[0m: name 'batch_size' is not defined"
     ]
    }
   ],
   "source": [
    "gmaker = molgrid.GridMaker(resolution=0.5, dimension=23.5, radius_type_indexed=True)\n",
    "dims = gmaker.grid_dimensions(1)\n",
    "\n",
    "grid_true = torch.empty(batch_size, *dims, dtype=torch.float32, device='cuda')\n",
    "type_count_true = torch.empty(batch_size, n_types, dtype=torch.float32, device='cuda')\n",
    "\n",
    "origtypes = torch.ones(batch_size,n_atoms,1,device='cuda')\n",
    "\n",
    "#size radii for batches\n",
    "batch_radii = torch.tensor(np.tile(radii, (batch_size, 1)), dtype=torch.float32, device='cuda')"
   ]
  },
  {
   "cell_type": "code",
   "execution_count": 11,
   "id": "8e6a6944-4eff-4047-a903-66f667e4740b",
   "metadata": {},
   "outputs": [
    {
     "ename": "NameError",
     "evalue": "name 'batch_radii' is not defined",
     "output_type": "error",
     "traceback": [
      "\u001b[0;31m---------------------------------------------------------------------------\u001b[0m",
      "\u001b[0;31mNameError\u001b[0m                                 Traceback (most recent call last)",
      "Cell \u001b[0;32mIn[11], line 2\u001b[0m\n\u001b[1;32m      1\u001b[0m \u001b[38;5;66;03m#create model\u001b[39;00m\n\u001b[0;32m----> 2\u001b[0m model \u001b[38;5;241m=\u001b[39m CNN(gmaker, type_radii\u001b[38;5;241m=\u001b[39m\u001b[43mbatch_radii\u001b[49m, n_types\u001b[38;5;241m=\u001b[39m\u001b[38;5;241m1\u001b[39m, n_latent\u001b[38;5;241m=\u001b[39m\u001b[38;5;241m100\u001b[39m, n_atoms\u001b[38;5;241m=\u001b[39mn_atoms)\u001b[38;5;241m.\u001b[39mto(\u001b[38;5;124m'\u001b[39m\u001b[38;5;124mcuda\u001b[39m\u001b[38;5;124m'\u001b[39m)\n\u001b[1;32m      3\u001b[0m model\u001b[38;5;241m.\u001b[39mapply(weight_init)\n\u001b[1;32m      4\u001b[0m optimizer \u001b[38;5;241m=\u001b[39m optim\u001b[38;5;241m.\u001b[39mAdam(model\u001b[38;5;241m.\u001b[39mparameters(), lr\u001b[38;5;241m=\u001b[39m\u001b[38;5;241m.0005\u001b[39m)\n",
      "\u001b[0;31mNameError\u001b[0m: name 'batch_radii' is not defined"
     ]
    }
   ],
   "source": [
    "#create model\n",
    "model = CNN(gmaker, type_radii=batch_radii, n_types=1, n_latent=100, n_atoms=n_atoms).to('cuda')\n",
    "model.apply(weight_init)\n",
    "optimizer = optim.Adam(model.parameters(), lr=.0005)"
   ]
  },
  {
   "cell_type": "code",
   "execution_count": 12,
   "id": "f70f9175-d7bc-4ebc-bc28-2471d47ccc89",
   "metadata": {},
   "outputs": [
    {
     "ename": "NameError",
     "evalue": "name 'grid_true' is not defined",
     "output_type": "error",
     "traceback": [
      "\u001b[0;31m---------------------------------------------------------------------------\u001b[0m",
      "\u001b[0;31mNameError\u001b[0m                                 Traceback (most recent call last)",
      "Cell \u001b[0;32mIn[12], line 1\u001b[0m\n\u001b[0;32m----> 1\u001b[0m \u001b[43mgrid_true\u001b[49m\u001b[38;5;241m.\u001b[39mshape\n",
      "\u001b[0;31mNameError\u001b[0m: name 'grid_true' is not defined"
     ]
    }
   ],
   "source": [
    "grid_true.shape"
   ]
  },
  {
   "cell_type": "code",
   "execution_count": 13,
   "id": "d81d87a6-0f5c-4ef1-b5e3-cbd19a25deb4",
   "metadata": {},
   "outputs": [
    {
     "ename": "NameError",
     "evalue": "name 'batch_size' is not defined",
     "output_type": "error",
     "traceback": [
      "\u001b[0;31m---------------------------------------------------------------------------\u001b[0m",
      "\u001b[0;31mNameError\u001b[0m                                 Traceback (most recent call last)",
      "Cell \u001b[0;32mIn[13], line 2\u001b[0m\n\u001b[1;32m      1\u001b[0m \u001b[38;5;66;03m# compute starting losses for normalization purposes    \u001b[39;00m\n\u001b[0;32m----> 2\u001b[0m origcoords \u001b[38;5;241m=\u001b[39m torch\u001b[38;5;241m.\u001b[39mrand(\u001b[43mbatch_size\u001b[49m,n_atoms,\u001b[38;5;241m3\u001b[39m,device\u001b[38;5;241m=\u001b[39m\u001b[38;5;124m'\u001b[39m\u001b[38;5;124mcuda\u001b[39m\u001b[38;5;124m'\u001b[39m)\u001b[38;5;241m*\u001b[39m\u001b[38;5;241m10\u001b[39m\u001b[38;5;241m-\u001b[39m\u001b[38;5;241m5\u001b[39m\n\u001b[1;32m      3\u001b[0m \u001b[38;5;28;01mwith\u001b[39;00m torch\u001b[38;5;241m.\u001b[39mno_grad():\n\u001b[1;32m      5\u001b[0m     \u001b[38;5;28;01mfor\u001b[39;00m i \u001b[38;5;129;01min\u001b[39;00m \u001b[38;5;28mrange\u001b[39m(batch_size):\n",
      "\u001b[0;31mNameError\u001b[0m: name 'batch_size' is not defined"
     ]
    }
   ],
   "source": [
    "# compute starting losses for normalization purposes    \n",
    "origcoords = torch.rand(batch_size,n_atoms,3,device='cuda')*10-5\n",
    "with torch.no_grad():\n",
    "\n",
    "    for i in range(batch_size):\n",
    "        gmaker.forward((0,0,0), origcoords[i], origtypes[i], batch_radii[i], grid_true[i])\n",
    "    coords, types, grid_gen = model(grid_true)\n",
    "\n",
    "    start_grid_loss = F.mse_loss(grid_true, grid_gen)\n",
    "    oob_loss  = out_of_box_loss(coords, max_val=11.5)\n",
    "    start_type_loss = F.mse_loss(type_count_true, types.sum(dim=1))"
   ]
  },
  {
   "cell_type": "code",
   "execution_count": 14,
   "id": "56c76b07-e279-4489-9461-3328a4d8c422",
   "metadata": {},
   "outputs": [
    {
     "ename": "NameError",
     "evalue": "name 'start_type_loss' is not defined",
     "output_type": "error",
     "traceback": [
      "\u001b[0;31m---------------------------------------------------------------------------\u001b[0m",
      "\u001b[0;31mNameError\u001b[0m                                 Traceback (most recent call last)",
      "Cell \u001b[0;32mIn[14], line 1\u001b[0m\n\u001b[0;32m----> 1\u001b[0m \u001b[43mstart_type_loss\u001b[49m\n",
      "\u001b[0;31mNameError\u001b[0m: name 'start_type_loss' is not defined"
     ]
    }
   ],
   "source": [
    "start_type_loss"
   ]
  },
  {
   "cell_type": "code",
   "execution_count": 15,
   "id": "7ce09434-0b01-4989-bdaa-5c2666f08faf",
   "metadata": {},
   "outputs": [
    {
     "ename": "NameError",
     "evalue": "name 'start_grid_loss' is not defined",
     "output_type": "error",
     "traceback": [
      "\u001b[0;31m---------------------------------------------------------------------------\u001b[0m",
      "\u001b[0;31mNameError\u001b[0m                                 Traceback (most recent call last)",
      "Cell \u001b[0;32mIn[15], line 1\u001b[0m\n\u001b[0;32m----> 1\u001b[0m \u001b[43mstart_grid_loss\u001b[49m\n",
      "\u001b[0;31mNameError\u001b[0m: name 'start_grid_loss' is not defined"
     ]
    }
   ],
   "source": [
    "start_grid_loss"
   ]
  },
  {
   "cell_type": "code",
   "execution_count": 16,
   "id": "e3a905c5-463f-4731-94c0-8710b9651fbe",
   "metadata": {},
   "outputs": [],
   "source": [
    "#setup plotting\n",
    "def get_ylim(vals):\n",
    "    min_val = 0 #min(vals)\n",
    "    max_val = max(vals)\n",
    "    val_range = max_val - min_val\n",
    "    return min_val - 0.1*val_range, max_val + 0.1*val_range\n",
    "\n",
    "import seaborn as sns\n",
    "sns.set_style('white')\n",
    "sns.set_context('notebook')\n",
    "sns.set_palette('bright')\n",
    "from IPython import display\n",
    "\n",
    "grid_losses = []\n",
    "oob_losses = []"
   ]
  },
  {
   "cell_type": "code",
   "execution_count": 17,
   "id": "7d53d85b-da2c-4d81-9213-56b851de64e5",
   "metadata": {},
   "outputs": [
    {
     "ename": "NameError",
     "evalue": "name 'optimizer' is not defined",
     "output_type": "error",
     "traceback": [
      "\u001b[0;31m---------------------------------------------------------------------------\u001b[0m",
      "\u001b[0;31mNameError\u001b[0m                                 Traceback (most recent call last)",
      "Cell \u001b[0;32mIn[17], line 9\u001b[0m\n\u001b[1;32m      6\u001b[0m ax\u001b[38;5;241m.\u001b[39mlegend(loc\u001b[38;5;241m=\u001b[39m\u001b[38;5;241m1\u001b[39m)\n\u001b[1;32m      7\u001b[0m ax\u001b[38;5;241m.\u001b[39mset_xlabel(\u001b[38;5;124m'\u001b[39m\u001b[38;5;124miteration\u001b[39m\u001b[38;5;124m'\u001b[39m)\n\u001b[0;32m----> 9\u001b[0m scheduler \u001b[38;5;241m=\u001b[39m optim\u001b[38;5;241m.\u001b[39mlr_scheduler\u001b[38;5;241m.\u001b[39mStepLR(\u001b[43moptimizer\u001b[49m, step_size\u001b[38;5;241m=\u001b[39m\u001b[38;5;241m400\u001b[39m, gamma\u001b[38;5;241m=\u001b[39m\u001b[38;5;241m0.1\u001b[39m)\n\u001b[1;32m     12\u001b[0m \u001b[38;5;28;01mfor\u001b[39;00m \u001b[38;5;28miter\u001b[39m \u001b[38;5;129;01min\u001b[39;00m \u001b[38;5;28mrange\u001b[39m(\u001b[38;5;241m400\u001b[39m):\n\u001b[1;32m     13\u001b[0m     \u001b[38;5;28;01mtry\u001b[39;00m:\n",
      "\u001b[0;31mNameError\u001b[0m: name 'optimizer' is not defined"
     ]
    },
    {
     "data": {
      "image/png": "[encoded data removed]",
      "text/plain": [
       "<Figure size 1000x400 with 1 Axes>"
      ]
     },
     "metadata": {},
     "output_type": "display_data"
    }
   ],
   "source": [
    "fig = plt.figure(figsize=(10,4))\n",
    "ax = plt.gca()\n",
    "ax.plot(grid_losses, label='grid loss')\n",
    "ax.plot(oob_losses, label='oob loss')\n",
    "\n",
    "ax.legend(loc=1)\n",
    "ax.set_xlabel('iteration')\n",
    "\n",
    "scheduler = optim.lr_scheduler.StepLR(optimizer, step_size=400, gamma=0.1)\n",
    "\n",
    "\n",
    "for iter in range(400):\n",
    "    try:\n",
    "        optimizer.zero_grad()\n",
    "        #sample coordinates from -8 to 8\n",
    "        origcoords = torch.rand(batch_size,n_atoms,3,device='cuda')*16-8\n",
    "\n",
    "        for i in range(batch_size):\n",
    "            gmaker.forward((0,0,0), origcoords[i], origtypes[i], batch_radii[i], grid_true[i])\n",
    "        coords, types, grid_gen = model(grid_true)\n",
    "\n",
    "        grid_loss = F.mse_loss(grid_true, grid_gen)\n",
    "        oob_loss  = out_of_box_loss(coords, max_val=11.5)\n",
    "        grid_loss    /= start_grid_loss\n",
    "\n",
    "        loss = grid_loss + oob_loss \n",
    "        loss.backward()\n",
    "\n",
    "        grid_losses.append(min(float(grid_loss),100)) # for viz\n",
    "        oob_losses.append(min(float(oob_loss),2)) #for viz\n",
    "\n",
    "        optimizer.step()\n",
    "        scheduler.step()\n",
    "\n",
    "        if iter % 10 == 0:\n",
    "            x = len(grid_losses)\n",
    "            ax.get_lines()[0].set_data(range(x), grid_losses)\n",
    "            ax.get_lines()[1].set_data(range(x), oob_losses)\n",
    "            ax.set_xlim(0, x)\n",
    "            ax.set_ylim(get_ylim(grid_losses + oob_losses ))\n",
    "\n",
    "            display.display(fig)\n",
    "            display.clear_output(wait=True)\n",
    "\n",
    "    except KeyboardInterrupt:\n",
    "        print('interrupted')\n",
    "        break"
   ]
  },
  {
   "cell_type": "code",
   "execution_count": 18,
   "id": "059f807b-6cb3-4c56-9ddc-4212f5af55b5",
   "metadata": {},
   "outputs": [
    {
     "ename": "NameError",
     "evalue": "name 'coords' is not defined",
     "output_type": "error",
     "traceback": [
      "\u001b[0;31m---------------------------------------------------------------------------\u001b[0m",
      "\u001b[0;31mNameError\u001b[0m                                 Traceback (most recent call last)",
      "Cell \u001b[0;32mIn[18], line 2\u001b[0m\n\u001b[1;32m      1\u001b[0m \u001b[38;5;28;01mwith\u001b[39;00m torch\u001b[38;5;241m.\u001b[39mno_grad(): \u001b[38;5;66;03m#mean squared error on coordinates\u001b[39;00m\n\u001b[0;32m----> 2\u001b[0m     \u001b[38;5;28mprint\u001b[39m(F\u001b[38;5;241m.\u001b[39mmse_loss(\u001b[43mcoords\u001b[49m,origcoords))\n",
      "\u001b[0;31mNameError\u001b[0m: name 'coords' is not defined"
     ]
    }
   ],
   "source": [
    "with torch.no_grad(): #mean squared error on coordinates\n",
    "    print(F.mse_loss(coords,origcoords))"
   ]
  },
  {
   "cell_type": "code",
   "execution_count": 19,
   "id": "8b4691df-974c-491e-8a14-5365453ed0da",
   "metadata": {},
   "outputs": [
    {
     "ename": "NameError",
     "evalue": "name 'origcoords' is not defined",
     "output_type": "error",
     "traceback": [
      "\u001b[0;31m---------------------------------------------------------------------------\u001b[0m",
      "\u001b[0;31mNameError\u001b[0m                                 Traceback (most recent call last)",
      "Cell \u001b[0;32mIn[19], line 1\u001b[0m\n\u001b[0;32m----> 1\u001b[0m true \u001b[38;5;241m=\u001b[39m \u001b[43morigcoords\u001b[49m\u001b[38;5;241m.\u001b[39mdetach()\u001b[38;5;241m.\u001b[39mcpu()\u001b[38;5;241m.\u001b[39mnumpy()\u001b[38;5;241m.\u001b[39mreshape(\u001b[38;5;241m10\u001b[39m,\u001b[38;5;241m3\u001b[39m)\n\u001b[1;32m      2\u001b[0m pred \u001b[38;5;241m=\u001b[39m coords\u001b[38;5;241m.\u001b[39mdetach()\u001b[38;5;241m.\u001b[39mcpu()\u001b[38;5;241m.\u001b[39mnumpy()\u001b[38;5;241m.\u001b[39mreshape(\u001b[38;5;241m10\u001b[39m,\u001b[38;5;241m3\u001b[39m)\n",
      "\u001b[0;31mNameError\u001b[0m: name 'origcoords' is not defined"
     ]
    }
   ],
   "source": [
    "true = origcoords.detach().cpu().numpy().reshape(10,3)\n",
    "pred = coords.detach().cpu().numpy().reshape(10,3)"
   ]
  },
  {
   "cell_type": "code",
   "execution_count": 20,
   "id": "604614f2-88e3-418d-8bfa-b4c98e8ca86e",
   "metadata": {},
   "outputs": [
    {
     "ename": "NameError",
     "evalue": "name 'pred' is not defined",
     "output_type": "error",
     "traceback": [
      "\u001b[0;31m---------------------------------------------------------------------------\u001b[0m",
      "\u001b[0;31mNameError\u001b[0m                                 Traceback (most recent call last)",
      "Cell \u001b[0;32mIn[20], line 5\u001b[0m\n\u001b[1;32m      3\u001b[0m fig \u001b[38;5;241m=\u001b[39m plt\u001b[38;5;241m.\u001b[39mfigure()\n\u001b[1;32m      4\u001b[0m ax \u001b[38;5;241m=\u001b[39m fig\u001b[38;5;241m.\u001b[39madd_subplot(\u001b[38;5;241m111\u001b[39m, projection\u001b[38;5;241m=\u001b[39m\u001b[38;5;124m'\u001b[39m\u001b[38;5;124m3d\u001b[39m\u001b[38;5;124m'\u001b[39m)\n\u001b[0;32m----> 5\u001b[0m ax\u001b[38;5;241m.\u001b[39mscatter(\u001b[43mpred\u001b[49m[:,\u001b[38;5;241m0\u001b[39m],pred[:,\u001b[38;5;241m1\u001b[39m],pred[:,\u001b[38;5;241m2\u001b[39m],label\u001b[38;5;241m=\u001b[39m\u001b[38;5;124m'\u001b[39m\u001b[38;5;124mpred\u001b[39m\u001b[38;5;124m'\u001b[39m)\n\u001b[1;32m      6\u001b[0m ax\u001b[38;5;241m.\u001b[39mscatter(true[:,\u001b[38;5;241m0\u001b[39m],true[:,\u001b[38;5;241m1\u001b[39m],true[:,\u001b[38;5;241m2\u001b[39m],label\u001b[38;5;241m=\u001b[39m\u001b[38;5;124m'\u001b[39m\u001b[38;5;124mtrue\u001b[39m\u001b[38;5;124m'\u001b[39m)\n\u001b[1;32m      7\u001b[0m plt\u001b[38;5;241m.\u001b[39mlegend();\n",
      "\u001b[0;31mNameError\u001b[0m: name 'pred' is not defined"
     ]
    },
    {
     "data": {
      "image/png": "[encoded data removed]",
      "text/plain": [
       "<Figure size 640x480 with 1 Axes>"
      ]
     },
     "metadata": {},
     "output_type": "display_data"
    }
   ],
   "source": [
    "%matplotlib inline\n",
    "from mpl_toolkits.mplot3d import Axes3D\n",
    "fig = plt.figure()\n",
    "ax = fig.add_subplot(111, projection='3d')\n",
    "ax.scatter(pred[:,0],pred[:,1],pred[:,2],label='pred')\n",
    "ax.scatter(true[:,0],true[:,1],true[:,2],label='true')\n",
    "plt.legend();"
   ]
  },
  {
   "cell_type": "code",
   "execution_count": 21,
   "id": "8876e819-7f1b-44de-a177-53bc9133c03e",
   "metadata": {},
   "outputs": [
    {
     "ename": "NameError",
     "evalue": "name 'batch_radii' is not defined",
     "output_type": "error",
     "traceback": [
      "\u001b[0;31m---------------------------------------------------------------------------\u001b[0m",
      "\u001b[0;31mNameError\u001b[0m                                 Traceback (most recent call last)",
      "Cell \u001b[0;32mIn[21], line 5\u001b[0m\n\u001b[1;32m      2\u001b[0m oob_losses \u001b[38;5;241m=\u001b[39m []\n\u001b[1;32m      4\u001b[0m \u001b[38;5;66;03m#recreate model\u001b[39;00m\n\u001b[0;32m----> 5\u001b[0m model \u001b[38;5;241m=\u001b[39m CNN(gmaker, type_radii\u001b[38;5;241m=\u001b[39m\u001b[43mbatch_radii\u001b[49m, n_types\u001b[38;5;241m=\u001b[39m\u001b[38;5;241m1\u001b[39m, n_latent\u001b[38;5;241m=\u001b[39m\u001b[38;5;241m100\u001b[39m, n_atoms\u001b[38;5;241m=\u001b[39mn_atoms)\u001b[38;5;241m.\u001b[39mto(\u001b[38;5;124m'\u001b[39m\u001b[38;5;124mcuda\u001b[39m\u001b[38;5;124m'\u001b[39m)\n\u001b[1;32m      6\u001b[0m model\u001b[38;5;241m.\u001b[39mapply(weight_init)\n\u001b[1;32m      7\u001b[0m optimizer \u001b[38;5;241m=\u001b[39m optim\u001b[38;5;241m.\u001b[39mAdam(model\u001b[38;5;241m.\u001b[39mparameters(), lr\u001b[38;5;241m=\u001b[39m\u001b[38;5;241m.0005\u001b[39m)\n",
      "\u001b[0;31mNameError\u001b[0m: name 'batch_radii' is not defined"
     ]
    }
   ],
   "source": [
    "grid_losses = []\n",
    "oob_losses = []\n",
    "\n",
    "#recreate model\n",
    "model = CNN(gmaker, type_radii=batch_radii, n_types=1, n_latent=100, n_atoms=n_atoms).to('cuda')\n",
    "model.apply(weight_init)\n",
    "optimizer = optim.Adam(model.parameters(), lr=.0005)"
   ]
  },
  {
   "cell_type": "code",
   "execution_count": 22,
   "id": "e754d197-0471-4c20-a210-c41f1bf2559c",
   "metadata": {},
   "outputs": [
    {
     "ename": "NameError",
     "evalue": "name 'batch_size' is not defined",
     "output_type": "error",
     "traceback": [
      "\u001b[0;31m---------------------------------------------------------------------------\u001b[0m",
      "\u001b[0;31mNameError\u001b[0m                                 Traceback (most recent call last)",
      "Cell \u001b[0;32mIn[22], line 2\u001b[0m\n\u001b[1;32m      1\u001b[0m \u001b[38;5;66;03m#size radii for batches\u001b[39;00m\n\u001b[0;32m----> 2\u001b[0m batch_radii \u001b[38;5;241m=\u001b[39m torch\u001b[38;5;241m.\u001b[39mtensor(np\u001b[38;5;241m.\u001b[39mtile(radii, (\u001b[43mbatch_size\u001b[49m, \u001b[38;5;241m1\u001b[39m)), dtype\u001b[38;5;241m=\u001b[39mtorch\u001b[38;5;241m.\u001b[39mfloat32, device\u001b[38;5;241m=\u001b[39m\u001b[38;5;124m'\u001b[39m\u001b[38;5;124mcuda\u001b[39m\u001b[38;5;124m'\u001b[39m)\n\u001b[1;32m      4\u001b[0m fig \u001b[38;5;241m=\u001b[39m plt\u001b[38;5;241m.\u001b[39mfigure(figsize\u001b[38;5;241m=\u001b[39m(\u001b[38;5;241m10\u001b[39m,\u001b[38;5;241m4\u001b[39m))\n\u001b[1;32m      5\u001b[0m ax \u001b[38;5;241m=\u001b[39m plt\u001b[38;5;241m.\u001b[39mgca()\n",
      "\u001b[0;31mNameError\u001b[0m: name 'batch_size' is not defined"
     ]
    }
   ],
   "source": [
    "#size radii for batches\n",
    "batch_radii = torch.tensor(np.tile(radii, (batch_size, 1)), dtype=torch.float32, device='cuda')\n",
    "\n",
    "fig = plt.figure(figsize=(10,4))\n",
    "ax = plt.gca()\n",
    "ax.plot(grid_losses, label='grid loss')\n",
    "ax.plot(oob_losses, label='oob loss')\n",
    "\n",
    "ax.legend(loc=1)\n",
    "ax.set_xlabel('iteration')\n",
    "\n",
    "scheduler = optim.lr_scheduler.StepLR(optimizer, step_size=400, gamma=0.1)\n",
    "\n",
    "for maxcoord in [4,6,8,8,8]:\n",
    "    for iter in range(100):\n",
    "        try:\n",
    "            optimizer.zero_grad()\n",
    "            origcoords = torch.rand(batch_size,n_atoms,3,device='cuda')*2*maxcoord-maxcoord\n",
    "\n",
    "            for i in range(batch_size):\n",
    "                gmaker.forward((0,0,0), origcoords[i], origtypes[i], batch_radii[i], grid_true[i])\n",
    "            coords, types, grid_gen = model(grid_true)\n",
    "\n",
    "            grid_loss = F.mse_loss(grid_true, grid_gen)\n",
    "            oob_loss  = out_of_box_loss(coords, max_val=11.5)\n",
    "            grid_loss    /= start_grid_loss\n",
    "\n",
    "            loss = grid_loss + oob_loss \n",
    "            loss.backward()\n",
    "\n",
    "            grid_losses.append(min(float(grid_loss),100)) # for viz\n",
    "            oob_losses.append(min(float(oob_loss),2)) #for viz\n",
    "\n",
    "            optimizer.step()\n",
    "            scheduler.step()\n",
    "\n",
    "\n",
    "            if iter % 10 == 0:\n",
    "                x = len(grid_losses)\n",
    "                ax.get_lines()[0].set_data(range(x), grid_losses)\n",
    "                ax.get_lines()[1].set_data(range(x), oob_losses)\n",
    "                ax.set_xlim(0, x)\n",
    "                ax.set_ylim(get_ylim(grid_losses + oob_losses ))\n",
    "\n",
    "                display.display(fig)\n",
    "                display.clear_output(wait=True)\n",
    "\n",
    "        except KeyboardInterrupt:\n",
    "            print('interrupted')\n",
    "            break"
   ]
  },
  {
   "cell_type": "code",
   "execution_count": 23,
   "id": "0c1ffa3c-435c-4857-8293-03af16666166",
   "metadata": {},
   "outputs": [
    {
     "ename": "NameError",
     "evalue": "name 'coords' is not defined",
     "output_type": "error",
     "traceback": [
      "\u001b[0;31m---------------------------------------------------------------------------\u001b[0m",
      "\u001b[0;31mNameError\u001b[0m                                 Traceback (most recent call last)",
      "Cell \u001b[0;32mIn[23], line 2\u001b[0m\n\u001b[1;32m      1\u001b[0m \u001b[38;5;28;01mwith\u001b[39;00m torch\u001b[38;5;241m.\u001b[39mno_grad(): \u001b[38;5;66;03m#mean squared error on coordinates\u001b[39;00m\n\u001b[0;32m----> 2\u001b[0m     \u001b[38;5;28mprint\u001b[39m(F\u001b[38;5;241m.\u001b[39mmse_loss(\u001b[43mcoords\u001b[49m,origcoords))\n",
      "\u001b[0;31mNameError\u001b[0m: name 'coords' is not defined"
     ]
    }
   ],
   "source": [
    "with torch.no_grad(): #mean squared error on coordinates\n",
    "    print(F.mse_loss(coords,origcoords))"
   ]
  },
  {
   "cell_type": "code",
   "execution_count": 24,
   "id": "0a432148-c7e6-464c-b9bc-9d1f27a012ab",
   "metadata": {},
   "outputs": [
    {
     "ename": "NameError",
     "evalue": "name 'origcoords' is not defined",
     "output_type": "error",
     "traceback": [
      "\u001b[0;31m---------------------------------------------------------------------------\u001b[0m",
      "\u001b[0;31mNameError\u001b[0m                                 Traceback (most recent call last)",
      "Cell \u001b[0;32mIn[24], line 1\u001b[0m\n\u001b[0;32m----> 1\u001b[0m true \u001b[38;5;241m=\u001b[39m \u001b[43morigcoords\u001b[49m\u001b[38;5;241m.\u001b[39mdetach()\u001b[38;5;241m.\u001b[39mcpu()\u001b[38;5;241m.\u001b[39mnumpy()\u001b[38;5;241m.\u001b[39mreshape(\u001b[38;5;241m10\u001b[39m,\u001b[38;5;241m3\u001b[39m)\n\u001b[1;32m      2\u001b[0m pred \u001b[38;5;241m=\u001b[39m coords\u001b[38;5;241m.\u001b[39mdetach()\u001b[38;5;241m.\u001b[39mcpu()\u001b[38;5;241m.\u001b[39mnumpy()\u001b[38;5;241m.\u001b[39mreshape(\u001b[38;5;241m10\u001b[39m,\u001b[38;5;241m3\u001b[39m)\n\u001b[1;32m      4\u001b[0m fig \u001b[38;5;241m=\u001b[39m plt\u001b[38;5;241m.\u001b[39mfigure()\n",
      "\u001b[0;31mNameError\u001b[0m: name 'origcoords' is not defined"
     ]
    }
   ],
   "source": [
    "true = origcoords.detach().cpu().numpy().reshape(10,3)\n",
    "pred = coords.detach().cpu().numpy().reshape(10,3)\n",
    "\n",
    "fig = plt.figure()\n",
    "ax = fig.add_subplot(111, projection='3d')\n",
    "ax.scatter(pred[:,0],pred[:,1],pred[:,2],label='pred')\n",
    "ax.scatter(true[:,0],true[:,1],true[:,2],label='true')\n",
    "plt.legend();"
   ]
  },
  {
   "cell_type": "code",
   "execution_count": null,
   "id": "9fca591a-5e80-462a-aae0-4a052313661e",
   "metadata": {},
   "outputs": [],
   "source": []
  },
  {
   "cell_type": "code",
   "execution_count": null,
   "id": "d2cef30c-4c6b-49bf-8246-524317bf815f",
   "metadata": {},
   "outputs": [],
   "source": []
  },
  {
   "cell_type": "code",
   "execution_count": null,
   "id": "4a495a50-bf05-464e-8fb4-08133edef002",
   "metadata": {},
   "outputs": [],
   "source": []
  }
 ],
 "metadata": {
  "kernelspec": {
   "display_name": "Python 3 (ipykernel)",
   "language": "python",
   "name": "python3"
  },
  "language_info": {
   "codemirror_mode": {
    "name": "ipython",
    "version": 3
   },
   "file_extension": ".py",
   "mimetype": "text/x-python",
   "name": "python",
   "nbconvert_exporter": "python",
   "pygments_lexer": "ipython3",
   "version": "3.10.12"
  }
 },
 "nbformat": 4,
 "nbformat_minor": 5
}
