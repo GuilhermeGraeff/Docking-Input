{
 "cells": [
  {
   "cell_type": "code",
   "execution_count": 1,
   "id": "0bd483e0-1ec8-408b-b28a-7a33e2c77d0d",
   "metadata": {},
   "outputs": [
    {
     "ename": "ModuleNotFoundError",
     "evalue": "No module named 'openbabel'",
     "output_type": "error",
     "traceback": [
      "\u001b[0;31m---------------------------------------------------------------------------\u001b[0m",
      "\u001b[0;31mModuleNotFoundError\u001b[0m                       Traceback (most recent call last)",
      "Cell \u001b[0;32mIn[1], line 1\u001b[0m\n\u001b[0;32m----> 1\u001b[0m \u001b[38;5;28;01mfrom\u001b[39;00m \u001b[38;5;21;01mopenbabel\u001b[39;00m \u001b[38;5;28;01mimport\u001b[39;00m pybel\n\u001b[1;32m      2\u001b[0m \u001b[38;5;28;01mimport\u001b[39;00m \u001b[38;5;21;01mtorch\u001b[39;00m\n\u001b[1;32m      3\u001b[0m \u001b[38;5;28;01mimport\u001b[39;00m \u001b[38;5;21;01mmolgrid\u001b[39;00m\n",
      "\u001b[0;31mModuleNotFoundError\u001b[0m: No module named 'openbabel'"
     ]
    }
   ],
   "source": [
    "from openbabel import pybel\n",
    "import torch\n",
    "import molgrid\n",
    "import numpy as np\n",
    "import pandas as pd\n",
    "import os\n",
    "import re\n",
    "\n",
    "import seaborn as sns\n",
    "from matplotlib import pyplot as plt\n",
    "from mpl_toolkits.mplot3d import Axes3D\n",
    "from matplotlib.colors import ListedColormap"
   ]
  },
  {
   "cell_type": "code",
   "execution_count": null,
   "id": "c4721a10-85c5-4417-8a8b-be03008503bd",
   "metadata": {},
   "outputs": [],
   "source": [
    "structs_path = './_data/demo'\n",
    "datadir = os.listdir(structs_path)\n",
    "len(datadir)"
   ]
  },
  {
   "cell_type": "code",
   "execution_count": null,
   "id": "8385e487-ac0b-458c-9257-982877a90356",
   "metadata": {},
   "outputs": [],
   "source": [
    "sdf_structs = {}\n",
    "for i in range(0, len(datadir)):\n",
    "    if datadir[i] == 'index' or datadir[i] == 'readme':\n",
    "        continue\n",
    "    struct = os.listdir(structs_path + '/'+ datadir[i])\n",
    "    key = datadir[i]\n",
    "    value = list(filter(lambda s : re.search(\".*.sdf$\", s), struct))\n",
    "    sdf_structs.update({key : {'archive': value[0], 'cord': None}})"
   ]
  },
  {
   "cell_type": "code",
   "execution_count": null,
   "id": "b59797e7-6fec-423d-89bb-a8e8ae27a163",
   "metadata": {},
   "outputs": [],
   "source": [
    "cords = []\n",
    "for key, value in sdf_structs.items():\n",
    "    archive = value['archive']\n",
    "    f = open(f'{structs_path}/{key}/{archive}', \"r\")\n",
    "    sdf_sting = f.read()\n",
    "    mol = pybel.readstring('sdf',sdf_sting)\n",
    "    cord = molgrid.CoordinateSet(mol)\n",
    "    sdf_structs.update({key : {'archive': archive, 'cord': cord}})"
   ]
  },
  {
   "cell_type": "code",
   "execution_count": null,
   "id": "5866216f-9795-4e48-8af5-41951d422847",
   "metadata": {},
   "outputs": [],
   "source": [
    "sdf_structs['4eky']"
   ]
  },
  {
   "cell_type": "code",
   "execution_count": null,
   "id": "692bd091-7eaa-4518-9f94-fbc3ff8d0fa5",
   "metadata": {},
   "outputs": [],
   "source": [
    "gmaker = molgrid.GridMaker()\n",
    "dims = gmaker.grid_dimensions(molgrid.defaultGninaLigandTyper.num_types())"
   ]
  },
  {
   "cell_type": "code",
   "execution_count": null,
   "id": "b13f0aac-0475-4ba0-a256-9cbca63b744a",
   "metadata": {},
   "outputs": [],
   "source": [
    "how_many_times = 0\n",
    "for key, value in sdf_structs.items():\n",
    "    if(how_many_times > 2):\n",
    "        break\n",
    "    print(f'In Progress {how_many_times + 1}/{len(sdf_structs.items())}')\n",
    "    gridtensor = torch.zeros(dims,dtype=torch.float32)\n",
    "    gmaker.forward(value['cord'].center(),value['cord'],gridtensor)\n",
    "\n",
    "    xs = []\n",
    "    ys = []\n",
    "    zs = []\n",
    "    cs = []\n",
    "\n",
    "    for i in gridtensor:\n",
    "        x = []\n",
    "        y = []\n",
    "        z = []\n",
    "        c = []\n",
    "        count_j = 0\n",
    "        for j in i:\n",
    "            count_k = 0\n",
    "            for k in j:\n",
    "                count_l = 0\n",
    "                for l in k:\n",
    "                    if (float(i[count_j][count_k][count_l]) != 0.0):\n",
    "                        x.append(count_j)\n",
    "                        y.append(count_k)\n",
    "                        z.append(count_l)\n",
    "                        c.append(float(i[count_j][count_k][count_l]))\n",
    "                    count_l += 1\n",
    "                count_k += 1\n",
    "            count_j += 1\n",
    "        xs.append(x)\n",
    "        ys.append(y)\n",
    "        zs.append(z)\n",
    "        cs.append(c)\n",
    "        \n",
    "    for i in range(0, len(xs)):\n",
    "        \n",
    "        if len(xs[i]) == 0:\n",
    "            continue\n",
    "        xis = xs[i]\n",
    "        yps = ys[i]\n",
    "        zee = zs[i]\n",
    "\n",
    "        # axes instance\n",
    "        fig = plt.figure(figsize=(6,6))\n",
    "        ax = Axes3D(fig, auto_add_to_figure=False)\n",
    "        fig.add_axes(ax)\n",
    "\n",
    "        # get colormap from seaborn\n",
    "        cmap = ListedColormap(sns.color_palette(\"husl\", 256).as_hex())\n",
    "\n",
    "        # plot\n",
    "        sc = ax.scatter(xis, yps, zee, s=15, c=cs[i], marker='o', cmap=cmap, alpha=1)\n",
    "        ax.set_xlabel('X Label')\n",
    "        ax.set_ylabel('Y Label')\n",
    "        ax.set_zlabel('Z Label')\n",
    "\n",
    "        # legend\n",
    "        plt.legend(*sc.legend_elements(), bbox_to_anchor=(1.05, 1), loc=2)\n",
    "\n",
    "        # save\n",
    "        plt.savefig(f'{structs_path}/{key}/{key}_{i}_plot', bbox_inches='tight')\n",
    "    how_many_times = how_many_times + 1"
   ]
  },
  {
   "cell_type": "code",
   "execution_count": null,
   "id": "4ada7c93-54c7-4f6f-b761-75f944fdcad4",
   "metadata": {},
   "outputs": [],
   "source": []
  }
 ],
 "metadata": {
  "kernelspec": {
   "display_name": "Python 3 (ipykernel)",
   "language": "python",
   "name": "python3"
  },
  "language_info": {
   "codemirror_mode": {
    "name": "ipython",
    "version": 3
   },
   "file_extension": ".py",
   "mimetype": "text/x-python",
   "name": "python",
   "nbconvert_exporter": "python",
   "pygments_lexer": "ipython3",
   "version": "3.10.12"
  }
 },
 "nbformat": 4,
 "nbformat_minor": 5
}
