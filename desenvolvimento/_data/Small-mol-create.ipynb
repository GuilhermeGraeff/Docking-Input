{
 "cells": [
  {
   "cell_type": "code",
   "execution_count": 89,
   "id": "5246c6e4-b491-4b0b-ac65-ee2ba2e1d3ce",
   "metadata": {},
   "outputs": [],
   "source": [
    "import os\n",
    "import re\n",
    "import random\n",
    "\n",
    "random.seed(10)"
   ]
  },
  {
   "cell_type": "code",
   "execution_count": 90,
   "id": "3e60d805-adeb-4a9c-990b-cdc63f57a1ef",
   "metadata": {},
   "outputs": [],
   "source": [
    "structs_path = './demo'\n",
    "datadir = os.listdir(structs_path)\n",
    "# datadir"
   ]
  },
  {
   "cell_type": "code",
   "execution_count": 91,
   "id": "94a56b06-2dd1-46a9-9b91-e16e24416a54",
   "metadata": {
    "scrolled": true
   },
   "outputs": [],
   "source": [
    "smalls = \"\"\n",
    "for i in range(0, len(datadir)):\n",
    "    archives = os.listdir(structs_path + \"/\" + datadir[i])\n",
    "    # print(archives)\n",
    "    sdf = list(filter(lambda s : re.search(\".*.sdf$\", s), archives))\n",
    "    protein_and_pocket = list(filter(lambda s : re.search(\".*.pdb$\", s), archives))\n",
    "    mol2 = list(filter(lambda s : re.search(\".*.mol2$\", s), archives))\n",
    "\n",
    "    protein = list(filter(lambda s : re.search(\".*.protein.*.\", s), protein_and_pocket))\n",
    "    pocket = list(filter(lambda s : re.search(\".*.pocket.*.\", s), protein_and_pocket))\n",
    "    \n",
    "    random_label = 1 if (random.random() > 0.7) else 0\n",
    "\n",
    "    if len(protein) != 0 and len(sdf) != 0:\n",
    "        input = str(random_label) + \" \" + datadir[i] + \"/\" + protein[0] + \" \" + datadir[i] + \"/\" + sdf[0] + \"\\n\"\n",
    "        smalls = smalls + input\n",
    "    \n",
    "with open(f'./small-mol.types', 'w') as file:\n",
    "        file.write(smalls)"
   ]
  },
  {
   "cell_type": "code",
   "execution_count": null,
   "id": "65afa800-88ee-4187-ba6b-9e38f3088fce",
   "metadata": {},
   "outputs": [],
   "source": []
  },
  {
   "cell_type": "code",
   "execution_count": null,
   "id": "a6d23051-5a5d-406e-9b91-9758642ace26",
   "metadata": {},
   "outputs": [],
   "source": []
  }
 ],
 "metadata": {
  "kernelspec": {
   "display_name": "Python 3 (ipykernel)",
   "language": "python",
   "name": "python3"
  },
  "language_info": {
   "codemirror_mode": {
    "name": "ipython",
    "version": 3
   },
   "file_extension": ".py",
   "mimetype": "text/x-python",
   "name": "python",
   "nbconvert_exporter": "python",
   "pygments_lexer": "ipython3",
   "version": "3.10.12"
  }
 },
 "nbformat": 4,
 "nbformat_minor": 5
}
